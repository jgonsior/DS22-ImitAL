{
 "cells": [
  {
   "cell_type": "code",
   "execution_count": 20,
   "metadata": {},
   "outputs": [
    {
     "data": {
      "text/html": "<div>\n<style scoped>\n    .dataframe tbody tr th:only-of-type {\n        vertical-align: middle;\n    }\n\n    .dataframe tbody tr th {\n        vertical-align: top;\n    }\n\n    .dataframe thead th {\n        text-align: right;\n    }\n</style>\n<table border=\"1\" class=\"dataframe\">\n  <thead>\n    <tr style=\"text-align: right;\">\n      <th></th>\n      <th>n_samples</th>\n      <th>n_features</th>\n      <th>n_informative</th>\n      <th>n_redundant</th>\n      <th>n_repeated</th>\n      <th>n_classes</th>\n      <th>n_clusters_per_class</th>\n      <th>weights</th>\n      <th>flip_y</th>\n      <th>class_sep</th>\n      <th>...</th>\n      <th>amount_of_lastly_al_samples</th>\n      <th>JOB_ID</th>\n      <th>AL_SAMPLES_WEIGHT</th>\n      <th>AMOUNT_OF_LFS</th>\n      <th>DATASET</th>\n      <th>DATASET_RANDOM_GENERATION_SEED</th>\n      <th>FRACTION_OF_INITIALLY_LABELLED_SAMPLES</th>\n      <th>FRACTION_OF_LASTLY_AL_LABELLED_SAMPLES</th>\n      <th>LF_RANDOM_SEED</th>\n      <th>MERGE_WS_SAMPLES_STRATEGY</th>\n    </tr>\n  </thead>\n  <tbody>\n    <tr>\n      <th>0</th>\n      <td>303</td>\n      <td>14</td>\n      <td>14</td>\n      <td>0</td>\n      <td>0</td>\n      <td>2</td>\n      <td>?</td>\n      <td>?</td>\n      <td>?</td>\n      <td>?</td>\n      <td>...</td>\n      <td>35</td>\n      <td>75</td>\n      <td>29</td>\n      <td>1.215732</td>\n      <td>HEART</td>\n      <td>28296</td>\n      <td>0.374271</td>\n      <td>0.370642</td>\n      <td>238068</td>\n      <td>MajorityVoteLabelMergeStrategy</td>\n    </tr>\n    <tr>\n      <th>1</th>\n      <td>194</td>\n      <td>49</td>\n      <td>49</td>\n      <td>0</td>\n      <td>0</td>\n      <td>8</td>\n      <td>?</td>\n      <td>?</td>\n      <td>?</td>\n      <td>?</td>\n      <td>...</td>\n      <td>7</td>\n      <td>100</td>\n      <td>6</td>\n      <td>3.108981</td>\n      <td>flag</td>\n      <td>628862</td>\n      <td>0.633401</td>\n      <td>0.240146</td>\n      <td>771955</td>\n      <td>RandomLabelMergeStrategy</td>\n    </tr>\n    <tr>\n      <th>2</th>\n      <td>306</td>\n      <td>4</td>\n      <td>4</td>\n      <td>0</td>\n      <td>0</td>\n      <td>2</td>\n      <td>?</td>\n      <td>?</td>\n      <td>?</td>\n      <td>?</td>\n      <td>...</td>\n      <td>85</td>\n      <td>94</td>\n      <td>34</td>\n      <td>2.993717</td>\n      <td>HABERMAN</td>\n      <td>618363</td>\n      <td>0.307777</td>\n      <td>0.816386</td>\n      <td>860396</td>\n      <td>MajorityVoteLabelMergeStrategy</td>\n    </tr>\n    <tr>\n      <th>3</th>\n      <td>178</td>\n      <td>14</td>\n      <td>14</td>\n      <td>0</td>\n      <td>0</td>\n      <td>3</td>\n      <td>?</td>\n      <td>?</td>\n      <td>?</td>\n      <td>?</td>\n      <td>...</td>\n      <td>5</td>\n      <td>0</td>\n      <td>52</td>\n      <td>8.927180</td>\n      <td>wine</td>\n      <td>644168</td>\n      <td>0.598658</td>\n      <td>0.156019</td>\n      <td>999891</td>\n      <td>RandomLabelMergeStrategy</td>\n    </tr>\n    <tr>\n      <th>4</th>\n      <td>306</td>\n      <td>4</td>\n      <td>4</td>\n      <td>0</td>\n      <td>0</td>\n      <td>2</td>\n      <td>?</td>\n      <td>?</td>\n      <td>?</td>\n      <td>?</td>\n      <td>...</td>\n      <td>75</td>\n      <td>29</td>\n      <td>36</td>\n      <td>1.038934</td>\n      <td>HABERMAN</td>\n      <td>751103</td>\n      <td>0.226496</td>\n      <td>0.645173</td>\n      <td>214836</td>\n      <td>MajorityVoteLabelMergeStrategy</td>\n    </tr>\n    <tr>\n      <th>...</th>\n      <td>...</td>\n      <td>...</td>\n      <td>...</td>\n      <td>...</td>\n      <td>...</td>\n      <td>...</td>\n      <td>...</td>\n      <td>...</td>\n      <td>...</td>\n      <td>...</td>\n      <td>...</td>\n      <td>...</td>\n      <td>...</td>\n      <td>...</td>\n      <td>...</td>\n      <td>...</td>\n      <td>...</td>\n      <td>...</td>\n      <td>...</td>\n      <td>...</td>\n      <td>...</td>\n    </tr>\n    <tr>\n      <th>9334</th>\n      <td>48842</td>\n      <td>105</td>\n      <td>105</td>\n      <td>0</td>\n      <td>0</td>\n      <td>4</td>\n      <td>?</td>\n      <td>?</td>\n      <td>?</td>\n      <td>?</td>\n      <td>...</td>\n      <td>9706</td>\n      <td>9245</td>\n      <td>50</td>\n      <td>4.401298</td>\n      <td>adult</td>\n      <td>869522</td>\n      <td>0.533442</td>\n      <td>0.852170</td>\n      <td>721962</td>\n      <td>SnorkelLabelMergeStrategy</td>\n    </tr>\n    <tr>\n      <th>9335</th>\n      <td>10000</td>\n      <td>3073</td>\n      <td>3073</td>\n      <td>0</td>\n      <td>0</td>\n      <td>10</td>\n      <td>?</td>\n      <td>?</td>\n      <td>?</td>\n      <td>?</td>\n      <td>...</td>\n      <td>2994</td>\n      <td>9110</td>\n      <td>65</td>\n      <td>2.502163</td>\n      <td>cifar10</td>\n      <td>673335</td>\n      <td>0.399166</td>\n      <td>0.999769</td>\n      <td>280095</td>\n      <td>MajorityVoteLabelMergeStrategy</td>\n    </tr>\n    <tr>\n      <th>9336</th>\n      <td>195</td>\n      <td>23</td>\n      <td>23</td>\n      <td>0</td>\n      <td>0</td>\n      <td>2</td>\n      <td>?</td>\n      <td>?</td>\n      <td>?</td>\n      <td>?</td>\n      <td>...</td>\n      <td>8</td>\n      <td>9103</td>\n      <td>33</td>\n      <td>4.402870</td>\n      <td>parkinsons</td>\n      <td>616999</td>\n      <td>0.229822</td>\n      <td>0.102335</td>\n      <td>907849</td>\n      <td>MajorityVoteLabelMergeStrategy</td>\n    </tr>\n    <tr>\n      <th>9337</th>\n      <td>1000</td>\n      <td>25</td>\n      <td>25</td>\n      <td>0</td>\n      <td>0</td>\n      <td>2</td>\n      <td>?</td>\n      <td>?</td>\n      <td>?</td>\n      <td>?</td>\n      <td>...</td>\n      <td>214</td>\n      <td>9107</td>\n      <td>39</td>\n      <td>1.402683</td>\n      <td>GERMAN</td>\n      <td>494724</td>\n      <td>0.485892</td>\n      <td>0.836036</td>\n      <td>859891</td>\n      <td>MajorityVoteLabelMergeStrategy</td>\n    </tr>\n    <tr>\n      <th>9338</th>\n      <td>690</td>\n      <td>15</td>\n      <td>15</td>\n      <td>0</td>\n      <td>0</td>\n      <td>2</td>\n      <td>?</td>\n      <td>?</td>\n      <td>?</td>\n      <td>?</td>\n      <td>...</td>\n      <td>53</td>\n      <td>9246</td>\n      <td>11</td>\n      <td>2.834454</td>\n      <td>australian</td>\n      <td>743645</td>\n      <td>0.643998</td>\n      <td>0.437529</td>\n      <td>443120</td>\n      <td>SnorkelLabelMergeStrategy</td>\n    </tr>\n  </tbody>\n</table>\n<p>9339 rows × 55 columns</p>\n</div>",
      "text/plain": "      n_samples  n_features  n_informative  n_redundant  n_repeated  \\\n0           303          14             14            0           0   \n1           194          49             49            0           0   \n2           306           4              4            0           0   \n3           178          14             14            0           0   \n4           306           4              4            0           0   \n...         ...         ...            ...          ...         ...   \n9334      48842         105            105            0           0   \n9335      10000        3073           3073            0           0   \n9336        195          23             23            0           0   \n9337       1000          25             25            0           0   \n9338        690          15             15            0           0   \n\n      n_classes n_clusters_per_class weights flip_y class_sep  ...  \\\n0             2                    ?       ?      ?         ?  ...   \n1             8                    ?       ?      ?         ?  ...   \n2             2                    ?       ?      ?         ?  ...   \n3             3                    ?       ?      ?         ?  ...   \n4             2                    ?       ?      ?         ?  ...   \n...         ...                  ...     ...    ...       ...  ...   \n9334          4                    ?       ?      ?         ?  ...   \n9335         10                    ?       ?      ?         ?  ...   \n9336          2                    ?       ?      ?         ?  ...   \n9337          2                    ?       ?      ?         ?  ...   \n9338          2                    ?       ?      ?         ?  ...   \n\n     amount_of_lastly_al_samples JOB_ID  AL_SAMPLES_WEIGHT AMOUNT_OF_LFS  \\\n0                             35     75                 29      1.215732   \n1                              7    100                  6      3.108981   \n2                             85     94                 34      2.993717   \n3                              5      0                 52      8.927180   \n4                             75     29                 36      1.038934   \n...                          ...    ...                ...           ...   \n9334                        9706   9245                 50      4.401298   \n9335                        2994   9110                 65      2.502163   \n9336                           8   9103                 33      4.402870   \n9337                         214   9107                 39      1.402683   \n9338                          53   9246                 11      2.834454   \n\n         DATASET DATASET_RANDOM_GENERATION_SEED  \\\n0          HEART                          28296   \n1           flag                         628862   \n2       HABERMAN                         618363   \n3           wine                         644168   \n4       HABERMAN                         751103   \n...          ...                            ...   \n9334       adult                         869522   \n9335     cifar10                         673335   \n9336  parkinsons                         616999   \n9337      GERMAN                         494724   \n9338  australian                         743645   \n\n      FRACTION_OF_INITIALLY_LABELLED_SAMPLES  \\\n0                                   0.374271   \n1                                   0.633401   \n2                                   0.307777   \n3                                   0.598658   \n4                                   0.226496   \n...                                      ...   \n9334                                0.533442   \n9335                                0.399166   \n9336                                0.229822   \n9337                                0.485892   \n9338                                0.643998   \n\n      FRACTION_OF_LASTLY_AL_LABELLED_SAMPLES  LF_RANDOM_SEED  \\\n0                                   0.370642          238068   \n1                                   0.240146          771955   \n2                                   0.816386          860396   \n3                                   0.156019          999891   \n4                                   0.645173          214836   \n...                                      ...             ...   \n9334                                0.852170          721962   \n9335                                0.999769          280095   \n9336                                0.102335          907849   \n9337                                0.836036          859891   \n9338                                0.437529          443120   \n\n           MERGE_WS_SAMPLES_STRATEGY  \n0     MajorityVoteLabelMergeStrategy  \n1           RandomLabelMergeStrategy  \n2     MajorityVoteLabelMergeStrategy  \n3           RandomLabelMergeStrategy  \n4     MajorityVoteLabelMergeStrategy  \n...                              ...  \n9334       SnorkelLabelMergeStrategy  \n9335  MajorityVoteLabelMergeStrategy  \n9336  MajorityVoteLabelMergeStrategy  \n9337  MajorityVoteLabelMergeStrategy  \n9338       SnorkelLabelMergeStrategy  \n\n[9339 rows x 55 columns]"
     },
     "execution_count": 20,
     "metadata": {},
     "output_type": "execute_result"
    }
   ],
   "source": [
    "from active_learning.learner.standard import Learner, get_classifier\n",
    "from active_learning.weak_supervision.SelfTraining import SelfTraining\n",
    "import argparse\n",
    "import numpy as np\n",
    "import copy\n",
    "import pandas as pd\n",
    "import math\n",
    "import random\n",
    "from sklearn.metrics import accuracy_score, f1_score\n",
    "from timeit import default_timer as timer\n",
    "from typing import List, Dict\n",
    "from active_learning.config import get_active_config\n",
    "from active_learning.dataStorage import DataStorage\n",
    "from active_learning.datasets import load_synthetic\n",
    "from active_learning.logger import init_logger\n",
    "from active_learning.merge_weak_supervision_label_strategies.MajorityVoteLabelMergeStrategy import (\n",
    "    MajorityVoteLabelMergeStrategy,\n",
    ")\n",
    "from collections import Counter\n",
    "\n",
    "from active_learning.weak_supervision import SyntheticLabelingFunctions\n",
    "from active_learning.weak_supervision.BaseWeakSupervision import BaseWeakSupervision\n",
    "\n",
    "import seaborn as sns\n",
    "import matplotlib.pyplot as plt\n",
    "#sns.set_theme(style=\"whitegrid\")\n",
    "\n",
    "\n",
    "font_size = 8\n",
    "\n",
    "tex_fonts = {\n",
    "    # Use LaTeX to write all text\n",
    "    # \"text.usetex\": True,\n",
    "    \"text.usetex\": False,\n",
    "    \"font.family\": [\"Times New Roman\", 'sans-serif'],\n",
    "    # Use 10pt font in plots, to match 10pt font in document\n",
    "    \"axes.labelsize\": font_size,\n",
    "    \"font.size\": font_size,\n",
    "    # Make the legend/label fonts a little smaller\n",
    "    \"legend.fontsize\": font_size,\n",
    "    \"xtick.labelsize\": font_size,\n",
    "    \"ytick.labelsize\": font_size,\n",
    "    \"xtick.bottom\": True,\n",
    "    \"figure.autolayout\": True,\n",
    "}\n",
    "\n",
    "sns.set_style(\"whitegrid\")\n",
    "sns.set_context(\"paper\")\n",
    "plt.rcParams.update(tex_fonts)  # type: ignore\n",
    "\n",
    "\n",
    "# https://jwalton.info/Embed-Publication-Matplotlib-Latex/\n",
    "def set_matplotlib_size(width, fraction=1):\n",
    "    \"\"\"Set figure dimensions to avoid scaling in LaTeX.\n",
    "\n",
    "    Parameters\n",
    "    ----------\n",
    "    width: float\n",
    "            Document textwidth or columnwidth in pts\n",
    "    fraction: float, optional\n",
    "            Fraction of the width which you wish the figure to occupy\n",
    "\n",
    "    Returns\n",
    "    -------\n",
    "    fig_dim: tuple\n",
    "            Dimensions of figure in inches\n",
    "    \"\"\"\n",
    "    # Width of figure (in pts)\n",
    "    fig_width_pt = width * fraction\n",
    "\n",
    "    # Convert from pt to inches\n",
    "    inches_per_pt = 1 / 72.27\n",
    "\n",
    "    # Golden ratio to set aesthetic figure height\n",
    "    # https://disq.us/p/2940ij3\n",
    "    golden_ratio = (5 ** 0.5 - 1) / 2\n",
    "\n",
    "    # Figure width in inches\n",
    "    fig_width_in = fig_width_pt * inches_per_pt\n",
    "    # Figure height in inches\n",
    "    fig_height_in = fig_width_in * golden_ratio\n",
    "\n",
    "    fig_dim = (fig_width_in, fig_height_in)\n",
    "\n",
    "    return fig_dim\n",
    "\n",
    "\n",
    "#width = 505.89\n",
    "width = 1500\n",
    "\n",
    "\n",
    "df = pd.read_csv(\"~/exp_results/run_how_to/exp_results.csv\")\n",
    "df"
   ]
  },
  {
   "cell_type": "code",
   "execution_count": 21,
   "metadata": {},
   "outputs": [
    {
     "data": {
      "text/plain": "Index(['n_samples', 'n_features', 'n_informative', 'n_redundant', 'n_repeated',\n       'n_classes', 'n_clusters_per_class', 'weights', 'flip_y', 'class_sep',\n       'hypercube', 'scale', 'random_state', 'ABSTAIN_THRESHOLDS',\n       'LF_CLASSIFIERS', 'AMOUNT_OF_LF_FEATURESSS', 'f1_initial',\n       'acc_initial', 'f1_ws', 'acc_ws',\n       'acc_ws_and_al_UncertaintyMaxMargin_no_ws',\n       'f1_ws_and_al_UncertaintyMaxMargin_no_ws',\n       'acc_al_and_al_UncertaintyMaxMargin_no_ws',\n       'f1_al_and_al_UncertaintyMaxMargin_no_ws',\n       'acc_ws_and_al_UncertaintyMaxMargin_with_ws',\n       'f1_ws_and_al_UncertaintyMaxMargin_with_ws',\n       'acc_al_and_al_UncertaintyMaxMargin_with_ws',\n       'f1_al_and_al_UncertaintyMaxMargin_with_ws', 'acc_ws_and_al_Random',\n       'f1_ws_and_al_Random', 'acc_al_and_al_Random', 'f1_al_and_al_Random',\n       'acc_ws_and_al_CoveredByLeastAmountOfLf',\n       'f1_ws_and_al_CoveredByLeastAmountOfLf',\n       'acc_al_and_al_CoveredByLeastAmountOfLf',\n       'f1_al_and_al_CoveredByLeastAmountOfLf',\n       'acc_ws_and_al_ClassificationIsMostWrong',\n       'f1_ws_and_al_ClassificationIsMostWrong',\n       'acc_al_and_al_ClassificationIsMostWrong',\n       'f1_al_and_al_ClassificationIsMostWrong',\n       'acc_ws_and_al_GreatestDisagreement',\n       'f1_ws_and_al_GreatestDisagreement',\n       'acc_al_and_al_GreatestDisagreement',\n       'f1_al_and_al_GreatestDisagreement', 'amount_of_initial_al_samples',\n       'amount_of_lastly_al_samples', 'JOB_ID', 'AL_SAMPLES_WEIGHT',\n       'AMOUNT_OF_LFS', 'DATASET', 'DATASET_RANDOM_GENERATION_SEED',\n       'FRACTION_OF_INITIALLY_LABELLED_SAMPLES',\n       'FRACTION_OF_LASTLY_AL_LABELLED_SAMPLES', 'LF_RANDOM_SEED',\n       'MERGE_WS_SAMPLES_STRATEGY'],\n      dtype='object')"
     },
     "execution_count": 21,
     "metadata": {},
     "output_type": "execute_result"
    }
   ],
   "source": [
    "df.keys()#"
   ]
  },
  {
   "cell_type": "code",
   "execution_count": 22,
   "metadata": {},
   "outputs": [
    {
     "name": "stdout",
     "output_type": "stream",
     "text": [
      "General Improvement after AL + WS acc\n",
      "                                                               Mean     \n",
      "acc_initial                                        58.06% ±0.45%\n",
      "acc_ws                                             56.00% ±0.44%\n",
      "acc_ws_and_al_UncertaintyMaxMargin_no_ws           57.71% ±0.45%\n",
      "acc_al_and_al_UncertaintyMaxMargin_no_ws           58.61% ±0.46%\n",
      "acc_ws_and_al_UncertaintyMaxMargin_with_ws         57.71% ±0.45%\n",
      "acc_al_and_al_UncertaintyMaxMargin_with_ws         58.61% ±0.46%\n",
      "acc_ws_and_al_Random                               57.59% ±0.44%\n",
      "acc_al_and_al_Random                               58.21% ±0.46%\n",
      "acc_ws_and_al_CoveredByLeastAmountOfLf             57.17% ±0.45%\n",
      "acc_al_and_al_CoveredByLeastAmountOfLf             58.16% ±0.46%\n",
      "acc_ws_and_al_ClassificationIsMostWrong            56.98% ±0.44%\n",
      "acc_al_and_al_ClassificationIsMostWrong            57.50% ±0.46%\n",
      "acc_ws_and_al_GreatestDisagreement                 57.13% ±0.44%\n",
      "acc_al_and_al_GreatestDisagreement                 58.17% ±0.46%\n",
      "Which are better than initial? ['acc_al_and_al_UncertaintyMaxMargin_no_ws', 'acc_al_and_al_UncertaintyMaxMargin_with_ws', 'acc_al_and_al_Random', 'acc_al_and_al_CoveredByLeastAmountOfLf', 'acc_al_and_al_GreatestDisagreement']\n",
      "Which are better than initial, with WS? []\n",
      "Where is al+ws+al better than al+al? []\n",
      "General Improvement after AL + WS f1\n",
      "                                                               Mean     \n",
      "f1_initial                                         54.12% ±0.47%\n",
      "f1_ws                                              50.49% ±0.50%\n",
      "f1_ws_and_al_UncertaintyMaxMargin_no_ws            52.89% ±0.49%\n",
      "f1_al_and_al_UncertaintyMaxMargin_no_ws            55.23% ±0.46%\n",
      "f1_ws_and_al_UncertaintyMaxMargin_with_ws          52.89% ±0.49%\n",
      "f1_al_and_al_UncertaintyMaxMargin_with_ws          55.23% ±0.46%\n",
      "f1_ws_and_al_Random                                52.80% ±0.48%\n",
      "f1_al_and_al_Random                                54.77% ±0.46%\n",
      "f1_ws_and_al_CoveredByLeastAmountOfLf              52.34% ±0.48%\n",
      "f1_al_and_al_CoveredByLeastAmountOfLf              54.48% ±0.46%\n",
      "f1_ws_and_al_ClassificationIsMostWrong             51.92% ±0.48%\n",
      "f1_al_and_al_ClassificationIsMostWrong             53.27% ±0.47%\n",
      "f1_ws_and_al_GreatestDisagreement                  52.23% ±0.48%\n",
      "f1_al_and_al_GreatestDisagreement                  54.30% ±0.46%\n",
      "Which are better than initial? ['f1_al_and_al_UncertaintyMaxMargin_no_ws', 'f1_al_and_al_UncertaintyMaxMargin_with_ws', 'f1_al_and_al_Random', 'f1_al_and_al_CoveredByLeastAmountOfLf', 'f1_al_and_al_GreatestDisagreement']\n",
      "Which are better than initial, with WS? []\n",
      "Where is al+ws+al better than al+al? []\n"
     ]
    }
   ],
   "source": [
    "def hist_plot(df: pd.DataFrame, COMPARE_KEYS:List[str], TITLE:str=None, OUTPUT_PATH: str=None, LABEL:str=\"AUC-F1 (\\\\%)\"):\n",
    "    fig = plt.figure(figsize=set_matplotlib_size(width, fraction=0.5))\n",
    "\n",
    "    # fig = plt.gcf()  # type: ignore\n",
    "    # fig.set_size_inches(18.5, 10.5)\n",
    "\n",
    "    selection_list = []\n",
    "    for key in COMPARE_KEYS:\n",
    "        selection_list.append((df[key], key))\n",
    "    #for strategy in df[\"strategy\"].unique():\n",
    "    #    selection_list.append((df[df[\"strategy\"] == strategy][\"f1_auc\"], strategy))\n",
    "\n",
    "    for selection, label in sorted(selection_list, key=lambda tup: tup[1]):\n",
    "        #  ax = sns.distplot(selection, label=label, **kwargs)\n",
    "        #  label = \"{}-{:>3}: {:.4g}% \".format(label[0], label[1], selection.mean() * 100)\n",
    "        label = \"{:<10}{:>5.4g}% \".format(label + \":\", selection.mean() * 100)\n",
    "        ax = sns.kdeplot(selection, label=label)\n",
    "        # ax = sns.distplot(selection, label=label, kde=True)\n",
    "        #ax.set_xlim(0, 1)\n",
    "        ax.set_xlim(0.5, 0.6)\n",
    "        #  ax.set_xlim(0.75, 0.8)\n",
    "        #  ax.set_xlim(80, 875)\n",
    "\n",
    "        mean = selection.mean()\n",
    "        if selection.count() == 0:\n",
    "            low = high = mean\n",
    "        else:\n",
    "            low = selection.mean() - 1.96 * selection.std() / math.sqrt(\n",
    "                selection.count()\n",
    "            )\n",
    "            high = selection.mean() + 1.96 * selection.std() / math.sqrt(\n",
    "                selection.count()\n",
    "            )\n",
    "        print(label)\n",
    "        ax.axvline(mean, color=plt.gca().lines[-1].get_color())  # type: ignore\n",
    "        ax.axvspan(low, high, alpha=0.2, color=plt.gca().lines[-1].get_color())  # type: ignore\n",
    "\n",
    "        ax.set_xticks([x for x in ax.get_xticks()]) # stupid \"workaround\" for https://github.com/matplotlib/matplotlib/issues/18848\n",
    "        ax.set_xticklabels([\"{:.0%}\\\\%\".format(x) for x in ax.get_xticks()])\n",
    "    ax.set_title(TITLE)  # type: ignore\n",
    "    # ax.set_ylabel(\"\")\n",
    "    ax.set_xlabel(LABEL)  # type: ignore\n",
    "    ax.legend(  # type: ignore\n",
    "        loc=\"center left\"\n",
    "    )  # , bbox_to_anchor=(0.0, 1.01), borderaxespad=0, frameon=False, ncol=len(selection))  # type: ignore\n",
    "    # ax.xa\n",
    "\n",
    "def comparison_table(df: pd.DataFrame, COMPARE_KEYS:List[str], TITLE:str=\"\"):\n",
    "    results = []\n",
    "    for key in COMPARE_KEYS:\n",
    "        selection = df[key]\n",
    "\n",
    "        mean = selection.mean()\n",
    "        error_area = 1.96 * selection.std() / math.sqrt(\n",
    "                selection.count()\n",
    "            )\n",
    "        results.append([key, mean, error_area])\n",
    "    print(TITLE)\n",
    "    print(\"{:>60} {:>6} {:>4}\".format(\"\", \"Mean\", \"\"))\n",
    "    for result in results:\n",
    "        print(\"{:<50} {:>6.2%} ±{:>4.2%}\".format(result[0], float(result[1]), float(result[2])))\n",
    "\n",
    "def answer_questions(df: pd.DataFrame, COMPARE_KEYS:List[str], metric):\n",
    "    results = {}\n",
    "    for key in COMPARE_KEYS:\n",
    "        selection = df[key]\n",
    "\n",
    "        mean = selection.mean()\n",
    "        error_area = 1.96 * selection.std() / math.sqrt(\n",
    "                selection.count()\n",
    "            )\n",
    "        results[key] = (mean, error_area)\n",
    "    \n",
    "    better_than_initial = [k for k,v in results.items() if v[0] > results[metric + \"_initial\"][0]]\n",
    "    better_than_initial_with_ws = [k for k in better_than_initial if \"ws_and_al\" in k]\n",
    "    print(\"Which are better than initial?\", better_than_initial)\n",
    "    print(\"Which are better than initial, with WS?\", better_than_initial_with_ws)\n",
    "\n",
    "    al_ws_al_better_than_al_al = []\n",
    "\n",
    "    for k in results.keys():\n",
    "        if k.startswith(metric + \"_ws_and_al\"):\n",
    "            if results[k][0] > results[k.replace(\"_ws_and_al\", \"_al_and_al\")][0]:\n",
    "                al_ws_al_better_than_al_al.append(k)\n",
    "\n",
    "    print(\"Where is al+ws+al better than al+al?\", al_ws_al_better_than_al_al)\n",
    "    \n",
    "    #print(\"Where is the mean improvement within the 95% error range?\")\n",
    "    \n",
    "    \n",
    "# 01 general improvement\n",
    "for metric in ['acc', 'f1']:\n",
    "    COMPARE_KEYS = [metric+\"_initial\", metric +\"_ws\"]\n",
    "    for AL_SAMPLING_STRATEGY in [\"UncertaintyMaxMargin_no_ws\",\n",
    "            \"UncertaintyMaxMargin_with_ws\",\n",
    "            \"Random\",\n",
    "            \"CoveredByLeastAmountOfLf\",\n",
    "            \"ClassificationIsMostWrong\",\n",
    "            \"GreatestDisagreement\"]:\n",
    "            COMPARE_KEYS.append(metric + '_ws_and_al_'+AL_SAMPLING_STRATEGY)\n",
    "            COMPARE_KEYS.append(metric + '_al_and_al_'+AL_SAMPLING_STRATEGY)\n",
    "    comparison_table(df, COMPARE_KEYS=COMPARE_KEYS, TITLE=\"General Improvement after AL + WS \" + metric)\n",
    "    answer_questions(df, COMPARE_KEYS=COMPARE_KEYS, metric=metric)"
   ]
  },
  {
   "cell_type": "code",
   "execution_count": 23,
   "metadata": {},
   "outputs": [
    {
     "name": "stdout",
     "output_type": "stream",
     "text": [
      "\n",
      "################################################################################\n",
      "DATASET\n",
      "################################################################################\n",
      "\n",
      "HEART :  315\n",
      "Which are better than initial? ['acc_ws', 'acc_ws_and_al_UncertaintyMaxMargin_no_ws', 'acc_ws_and_al_UncertaintyMaxMargin_with_ws', 'acc_ws_and_al_Random', 'acc_ws_and_al_ClassificationIsMostWrong', 'acc_ws_and_al_GreatestDisagreement']\n",
      "Which are better than initial, with WS? ['acc_ws_and_al_UncertaintyMaxMargin_no_ws', 'acc_ws_and_al_UncertaintyMaxMargin_with_ws', 'acc_ws_and_al_Random', 'acc_ws_and_al_ClassificationIsMostWrong', 'acc_ws_and_al_GreatestDisagreement']\n",
      "Where is al+ws+al better than al+al? ['acc_ws_and_al_UncertaintyMaxMargin_no_ws', 'acc_ws_and_al_UncertaintyMaxMargin_with_ws', 'acc_ws_and_al_Random', 'acc_ws_and_al_CoveredByLeastAmountOfLf', 'acc_ws_and_al_ClassificationIsMostWrong', 'acc_ws_and_al_GreatestDisagreement']\n",
      "Which are better than initial? ['f1_ws', 'f1_ws_and_al_UncertaintyMaxMargin_no_ws', 'f1_ws_and_al_UncertaintyMaxMargin_with_ws', 'f1_ws_and_al_Random', 'f1_ws_and_al_ClassificationIsMostWrong', 'f1_ws_and_al_GreatestDisagreement']\n",
      "Which are better than initial, with WS? ['f1_ws_and_al_UncertaintyMaxMargin_no_ws', 'f1_ws_and_al_UncertaintyMaxMargin_with_ws', 'f1_ws_and_al_Random', 'f1_ws_and_al_ClassificationIsMostWrong', 'f1_ws_and_al_GreatestDisagreement']\n",
      "Where is al+ws+al better than al+al? ['f1_ws_and_al_UncertaintyMaxMargin_no_ws', 'f1_ws_and_al_UncertaintyMaxMargin_with_ws', 'f1_ws_and_al_Random', 'f1_ws_and_al_CoveredByLeastAmountOfLf', 'f1_ws_and_al_ClassificationIsMostWrong', 'f1_ws_and_al_GreatestDisagreement']\n",
      "\n",
      "flag :  294\n",
      "Which are better than initial? ['acc_ws_and_al_UncertaintyMaxMargin_no_ws', 'acc_al_and_al_UncertaintyMaxMargin_no_ws', 'acc_ws_and_al_UncertaintyMaxMargin_with_ws', 'acc_al_and_al_UncertaintyMaxMargin_with_ws', 'acc_ws_and_al_Random', 'acc_al_and_al_Random', 'acc_ws_and_al_CoveredByLeastAmountOfLf', 'acc_al_and_al_CoveredByLeastAmountOfLf', 'acc_ws_and_al_ClassificationIsMostWrong', 'acc_al_and_al_ClassificationIsMostWrong', 'acc_ws_and_al_GreatestDisagreement', 'acc_al_and_al_GreatestDisagreement']\n",
      "Which are better than initial, with WS? ['acc_ws_and_al_UncertaintyMaxMargin_no_ws', 'acc_ws_and_al_UncertaintyMaxMargin_with_ws', 'acc_ws_and_al_Random', 'acc_ws_and_al_CoveredByLeastAmountOfLf', 'acc_ws_and_al_ClassificationIsMostWrong', 'acc_ws_and_al_GreatestDisagreement']\n",
      "Where is al+ws+al better than al+al? []\n",
      "Which are better than initial? ['f1_ws_and_al_UncertaintyMaxMargin_no_ws', 'f1_al_and_al_UncertaintyMaxMargin_no_ws', 'f1_ws_and_al_UncertaintyMaxMargin_with_ws', 'f1_al_and_al_UncertaintyMaxMargin_with_ws', 'f1_ws_and_al_Random', 'f1_al_and_al_Random', 'f1_ws_and_al_CoveredByLeastAmountOfLf', 'f1_al_and_al_CoveredByLeastAmountOfLf', 'f1_al_and_al_ClassificationIsMostWrong', 'f1_ws_and_al_GreatestDisagreement', 'f1_al_and_al_GreatestDisagreement']\n",
      "Which are better than initial, with WS? ['f1_ws_and_al_UncertaintyMaxMargin_no_ws', 'f1_ws_and_al_UncertaintyMaxMargin_with_ws', 'f1_ws_and_al_Random', 'f1_ws_and_al_CoveredByLeastAmountOfLf', 'f1_ws_and_al_GreatestDisagreement']\n",
      "Where is al+ws+al better than al+al? []\n",
      "\n",
      "HABERMAN :  338\n",
      "Which are better than initial? []\n",
      "Which are better than initial, with WS? []\n",
      "Where is al+ws+al better than al+al? ['acc_ws_and_al_CoveredByLeastAmountOfLf', 'acc_ws_and_al_ClassificationIsMostWrong']\n",
      "Which are better than initial? []\n",
      "Which are better than initial, with WS? []\n",
      "Where is al+ws+al better than al+al? []\n",
      "\n",
      "wine :  303\n",
      "Which are better than initial? []\n",
      "Which are better than initial, with WS? []\n",
      "Where is al+ws+al better than al+al? ['acc_ws_and_al_UncertaintyMaxMargin_no_ws', 'acc_ws_and_al_UncertaintyMaxMargin_with_ws', 'acc_ws_and_al_Random', 'acc_ws_and_al_CoveredByLeastAmountOfLf', 'acc_ws_and_al_ClassificationIsMostWrong', 'acc_ws_and_al_GreatestDisagreement']\n",
      "Which are better than initial? ['f1_al_and_al_UncertaintyMaxMargin_no_ws', 'f1_al_and_al_UncertaintyMaxMargin_with_ws', 'f1_al_and_al_Random', 'f1_al_and_al_CoveredByLeastAmountOfLf', 'f1_al_and_al_GreatestDisagreement']\n",
      "Which are better than initial, with WS? []\n",
      "Where is al+ws+al better than al+al? []\n",
      "\n",
      "GERMAN :  314\n",
      "Which are better than initial? ['acc_al_and_al_UncertaintyMaxMargin_no_ws', 'acc_al_and_al_UncertaintyMaxMargin_with_ws', 'acc_al_and_al_Random', 'acc_al_and_al_CoveredByLeastAmountOfLf', 'acc_al_and_al_GreatestDisagreement']\n",
      "Which are better than initial, with WS? []\n",
      "Where is al+ws+al better than al+al? []\n",
      "Which are better than initial? ['f1_al_and_al_UncertaintyMaxMargin_no_ws', 'f1_al_and_al_UncertaintyMaxMargin_with_ws', 'f1_al_and_al_Random', 'f1_al_and_al_CoveredByLeastAmountOfLf', 'f1_al_and_al_ClassificationIsMostWrong', 'f1_al_and_al_GreatestDisagreement']\n",
      "Which are better than initial, with WS? []\n",
      "Where is al+ws+al better than al+al? []\n",
      "\n",
      "australian :  329\n",
      "Which are better than initial? ['acc_al_and_al_UncertaintyMaxMargin_no_ws', 'acc_al_and_al_UncertaintyMaxMargin_with_ws', 'acc_al_and_al_Random', 'acc_al_and_al_CoveredByLeastAmountOfLf', 'acc_al_and_al_ClassificationIsMostWrong', 'acc_al_and_al_GreatestDisagreement']\n",
      "Which are better than initial, with WS? []\n",
      "Where is al+ws+al better than al+al? []\n",
      "Which are better than initial? ['f1_al_and_al_UncertaintyMaxMargin_no_ws', 'f1_al_and_al_UncertaintyMaxMargin_with_ws', 'f1_al_and_al_Random', 'f1_al_and_al_CoveredByLeastAmountOfLf', 'f1_al_and_al_ClassificationIsMostWrong', 'f1_al_and_al_GreatestDisagreement']\n",
      "Which are better than initial, with WS? []\n",
      "Where is al+ws+al better than al+al? []\n",
      "\n",
      "FERTILITY :  281\n",
      "Which are better than initial? ['acc_ws', 'acc_ws_and_al_UncertaintyMaxMargin_no_ws', 'acc_al_and_al_UncertaintyMaxMargin_no_ws', 'acc_ws_and_al_UncertaintyMaxMargin_with_ws', 'acc_al_and_al_UncertaintyMaxMargin_with_ws', 'acc_ws_and_al_Random', 'acc_al_and_al_Random', 'acc_ws_and_al_CoveredByLeastAmountOfLf', 'acc_al_and_al_CoveredByLeastAmountOfLf', 'acc_ws_and_al_ClassificationIsMostWrong', 'acc_al_and_al_ClassificationIsMostWrong', 'acc_ws_and_al_GreatestDisagreement', 'acc_al_and_al_GreatestDisagreement']\n",
      "Which are better than initial, with WS? ['acc_ws_and_al_UncertaintyMaxMargin_no_ws', 'acc_ws_and_al_UncertaintyMaxMargin_with_ws', 'acc_ws_and_al_Random', 'acc_ws_and_al_CoveredByLeastAmountOfLf', 'acc_ws_and_al_ClassificationIsMostWrong', 'acc_ws_and_al_GreatestDisagreement']\n",
      "Where is al+ws+al better than al+al? []\n",
      "Which are better than initial? ['f1_ws', 'f1_ws_and_al_UncertaintyMaxMargin_no_ws', 'f1_al_and_al_UncertaintyMaxMargin_no_ws', 'f1_ws_and_al_UncertaintyMaxMargin_with_ws', 'f1_al_and_al_UncertaintyMaxMargin_with_ws', 'f1_ws_and_al_Random', 'f1_al_and_al_Random', 'f1_ws_and_al_CoveredByLeastAmountOfLf', 'f1_al_and_al_CoveredByLeastAmountOfLf', 'f1_ws_and_al_ClassificationIsMostWrong', 'f1_al_and_al_ClassificationIsMostWrong', 'f1_ws_and_al_GreatestDisagreement', 'f1_al_and_al_GreatestDisagreement']\n",
      "Which are better than initial, with WS? ['f1_ws_and_al_UncertaintyMaxMargin_no_ws', 'f1_ws_and_al_UncertaintyMaxMargin_with_ws', 'f1_ws_and_al_Random', 'f1_ws_and_al_CoveredByLeastAmountOfLf', 'f1_ws_and_al_ClassificationIsMostWrong', 'f1_ws_and_al_GreatestDisagreement']\n",
      "Where is al+ws+al better than al+al? []\n",
      "\n",
      "PIMA :  307\n",
      "Which are better than initial? ['acc_al_and_al_UncertaintyMaxMargin_no_ws', 'acc_al_and_al_UncertaintyMaxMargin_with_ws', 'acc_al_and_al_Random', 'acc_al_and_al_CoveredByLeastAmountOfLf', 'acc_al_and_al_ClassificationIsMostWrong', 'acc_al_and_al_GreatestDisagreement']\n",
      "Which are better than initial, with WS? []\n",
      "Where is al+ws+al better than al+al? []\n",
      "Which are better than initial? ['f1_al_and_al_UncertaintyMaxMargin_no_ws', 'f1_al_and_al_UncertaintyMaxMargin_with_ws', 'f1_al_and_al_Random', 'f1_al_and_al_CoveredByLeastAmountOfLf', 'f1_al_and_al_ClassificationIsMostWrong', 'f1_al_and_al_GreatestDisagreement']\n",
      "Which are better than initial, with WS? []\n",
      "Where is al+ws+al better than al+al? []\n",
      "\n",
      "PLANNING :  280\n",
      "Which are better than initial? ['acc_al_and_al_UncertaintyMaxMargin_no_ws', 'acc_al_and_al_UncertaintyMaxMargin_with_ws', 'acc_al_and_al_GreatestDisagreement']\n",
      "Which are better than initial, with WS? []\n",
      "Where is al+ws+al better than al+al? []\n",
      "Which are better than initial? ['f1_al_and_al_UncertaintyMaxMargin_no_ws', 'f1_al_and_al_UncertaintyMaxMargin_with_ws', 'f1_al_and_al_Random', 'f1_al_and_al_GreatestDisagreement']\n",
      "Which are better than initial, with WS? []\n",
      "Where is al+ws+al better than al+al? []\n",
      "\n",
      "DIABETES :  310\n",
      "Which are better than initial? ['acc_al_and_al_UncertaintyMaxMargin_no_ws', 'acc_al_and_al_UncertaintyMaxMargin_with_ws', 'acc_al_and_al_Random', 'acc_al_and_al_CoveredByLeastAmountOfLf', 'acc_al_and_al_ClassificationIsMostWrong', 'acc_al_and_al_GreatestDisagreement']\n",
      "Which are better than initial, with WS? []\n",
      "Where is al+ws+al better than al+al? []\n",
      "Which are better than initial? ['f1_al_and_al_UncertaintyMaxMargin_no_ws', 'f1_al_and_al_UncertaintyMaxMargin_with_ws', 'f1_al_and_al_Random', 'f1_al_and_al_CoveredByLeastAmountOfLf', 'f1_al_and_al_ClassificationIsMostWrong', 'f1_al_and_al_GreatestDisagreement']\n",
      "Which are better than initial, with WS? []\n",
      "Where is al+ws+al better than al+al? []\n",
      "\n",
      "parkinsons :  287\n",
      "Which are better than initial? ['acc_ws_and_al_UncertaintyMaxMargin_no_ws', 'acc_al_and_al_UncertaintyMaxMargin_no_ws', 'acc_ws_and_al_UncertaintyMaxMargin_with_ws', 'acc_al_and_al_UncertaintyMaxMargin_with_ws', 'acc_ws_and_al_Random', 'acc_al_and_al_Random', 'acc_ws_and_al_CoveredByLeastAmountOfLf', 'acc_al_and_al_CoveredByLeastAmountOfLf', 'acc_ws_and_al_ClassificationIsMostWrong', 'acc_al_and_al_ClassificationIsMostWrong', 'acc_ws_and_al_GreatestDisagreement', 'acc_al_and_al_GreatestDisagreement']\n",
      "Which are better than initial, with WS? ['acc_ws_and_al_UncertaintyMaxMargin_no_ws', 'acc_ws_and_al_UncertaintyMaxMargin_with_ws', 'acc_ws_and_al_Random', 'acc_ws_and_al_CoveredByLeastAmountOfLf', 'acc_ws_and_al_ClassificationIsMostWrong', 'acc_ws_and_al_GreatestDisagreement']\n",
      "Where is al+ws+al better than al+al? []\n",
      "Which are better than initial? ['f1_ws_and_al_UncertaintyMaxMargin_no_ws', 'f1_al_and_al_UncertaintyMaxMargin_no_ws', 'f1_ws_and_al_UncertaintyMaxMargin_with_ws', 'f1_al_and_al_UncertaintyMaxMargin_with_ws', 'f1_ws_and_al_Random', 'f1_al_and_al_Random', 'f1_al_and_al_CoveredByLeastAmountOfLf', 'f1_ws_and_al_ClassificationIsMostWrong', 'f1_al_and_al_ClassificationIsMostWrong', 'f1_ws_and_al_GreatestDisagreement', 'f1_al_and_al_GreatestDisagreement']\n",
      "Which are better than initial, with WS? ['f1_ws_and_al_UncertaintyMaxMargin_no_ws', 'f1_ws_and_al_UncertaintyMaxMargin_with_ws', 'f1_ws_and_al_Random', 'f1_ws_and_al_ClassificationIsMostWrong', 'f1_ws_and_al_GreatestDisagreement']\n",
      "Where is al+ws+al better than al+al? []\n",
      "\n",
      "BREAST :  305\n",
      "Which are better than initial? ['acc_ws', 'acc_ws_and_al_UncertaintyMaxMargin_no_ws', 'acc_al_and_al_UncertaintyMaxMargin_no_ws', 'acc_ws_and_al_UncertaintyMaxMargin_with_ws', 'acc_al_and_al_UncertaintyMaxMargin_with_ws', 'acc_ws_and_al_Random', 'acc_al_and_al_Random', 'acc_ws_and_al_CoveredByLeastAmountOfLf', 'acc_al_and_al_CoveredByLeastAmountOfLf', 'acc_ws_and_al_ClassificationIsMostWrong', 'acc_al_and_al_ClassificationIsMostWrong', 'acc_ws_and_al_GreatestDisagreement', 'acc_al_and_al_GreatestDisagreement']\n",
      "Which are better than initial, with WS? ['acc_ws_and_al_UncertaintyMaxMargin_no_ws', 'acc_ws_and_al_UncertaintyMaxMargin_with_ws', 'acc_ws_and_al_Random', 'acc_ws_and_al_CoveredByLeastAmountOfLf', 'acc_ws_and_al_ClassificationIsMostWrong', 'acc_ws_and_al_GreatestDisagreement']\n",
      "Where is al+ws+al better than al+al? ['acc_ws_and_al_UncertaintyMaxMargin_no_ws', 'acc_ws_and_al_UncertaintyMaxMargin_with_ws', 'acc_ws_and_al_Random', 'acc_ws_and_al_GreatestDisagreement']\n",
      "Which are better than initial? ['f1_ws', 'f1_ws_and_al_UncertaintyMaxMargin_no_ws', 'f1_al_and_al_UncertaintyMaxMargin_no_ws', 'f1_ws_and_al_UncertaintyMaxMargin_with_ws', 'f1_al_and_al_UncertaintyMaxMargin_with_ws', 'f1_ws_and_al_Random', 'f1_al_and_al_Random', 'f1_ws_and_al_CoveredByLeastAmountOfLf', 'f1_al_and_al_CoveredByLeastAmountOfLf', 'f1_ws_and_al_ClassificationIsMostWrong', 'f1_al_and_al_ClassificationIsMostWrong', 'f1_ws_and_al_GreatestDisagreement', 'f1_al_and_al_GreatestDisagreement']\n",
      "Which are better than initial, with WS? ['f1_ws_and_al_UncertaintyMaxMargin_no_ws', 'f1_ws_and_al_UncertaintyMaxMargin_with_ws', 'f1_ws_and_al_Random', 'f1_ws_and_al_CoveredByLeastAmountOfLf', 'f1_ws_and_al_ClassificationIsMostWrong', 'f1_ws_and_al_GreatestDisagreement']\n",
      "Where is al+ws+al better than al+al? ['f1_ws_and_al_UncertaintyMaxMargin_no_ws', 'f1_ws_and_al_UncertaintyMaxMargin_with_ws', 'f1_ws_and_al_Random', 'f1_ws_and_al_GreatestDisagreement']\n",
      "\n",
      "ILPD :  319\n",
      "Which are better than initial? ['acc_al_and_al_UncertaintyMaxMargin_no_ws', 'acc_al_and_al_UncertaintyMaxMargin_with_ws', 'acc_al_and_al_Random', 'acc_al_and_al_CoveredByLeastAmountOfLf', 'acc_al_and_al_GreatestDisagreement']\n",
      "Which are better than initial, with WS? []\n",
      "Where is al+ws+al better than al+al? []\n",
      "Which are better than initial? ['f1_al_and_al_UncertaintyMaxMargin_no_ws', 'f1_al_and_al_UncertaintyMaxMargin_with_ws', 'f1_al_and_al_Random', 'f1_al_and_al_CoveredByLeastAmountOfLf', 'f1_al_and_al_ClassificationIsMostWrong', 'f1_al_and_al_GreatestDisagreement']\n",
      "Which are better than initial, with WS? []\n",
      "Where is al+ws+al better than al+al? []\n",
      "\n",
      "IONOSPHERE :  273\n",
      "Which are better than initial? ['acc_al_and_al_UncertaintyMaxMargin_no_ws', 'acc_al_and_al_UncertaintyMaxMargin_with_ws', 'acc_al_and_al_Random', 'acc_al_and_al_CoveredByLeastAmountOfLf', 'acc_al_and_al_GreatestDisagreement']\n",
      "Which are better than initial, with WS? []\n",
      "Where is al+ws+al better than al+al? []\n",
      "Which are better than initial? ['f1_al_and_al_UncertaintyMaxMargin_no_ws', 'f1_al_and_al_UncertaintyMaxMargin_with_ws', 'f1_al_and_al_Random', 'f1_al_and_al_CoveredByLeastAmountOfLf', 'f1_al_and_al_GreatestDisagreement']\n",
      "Which are better than initial, with WS? []\n",
      "Where is al+ws+al better than al+al? []\n",
      "\n",
      "synthetic :  3098\n",
      "Which are better than initial? ['acc_al_and_al_UncertaintyMaxMargin_no_ws', 'acc_al_and_al_UncertaintyMaxMargin_with_ws', 'acc_al_and_al_Random', 'acc_al_and_al_CoveredByLeastAmountOfLf', 'acc_al_and_al_ClassificationIsMostWrong', 'acc_al_and_al_GreatestDisagreement']\n",
      "Which are better than initial, with WS? []\n",
      "Where is al+ws+al better than al+al? []\n",
      "Which are better than initial? ['f1_al_and_al_UncertaintyMaxMargin_no_ws', 'f1_al_and_al_UncertaintyMaxMargin_with_ws', 'f1_al_and_al_Random', 'f1_al_and_al_CoveredByLeastAmountOfLf', 'f1_al_and_al_ClassificationIsMostWrong', 'f1_al_and_al_GreatestDisagreement']\n",
      "Which are better than initial, with WS? []\n",
      "Where is al+ws+al better than al+al? []\n",
      "\n",
      "abalone :  286\n",
      "Which are better than initial? ['acc_ws', 'acc_ws_and_al_UncertaintyMaxMargin_no_ws', 'acc_al_and_al_UncertaintyMaxMargin_no_ws', 'acc_ws_and_al_UncertaintyMaxMargin_with_ws', 'acc_al_and_al_UncertaintyMaxMargin_with_ws', 'acc_ws_and_al_Random', 'acc_al_and_al_Random', 'acc_ws_and_al_CoveredByLeastAmountOfLf', 'acc_al_and_al_CoveredByLeastAmountOfLf', 'acc_ws_and_al_ClassificationIsMostWrong', 'acc_al_and_al_ClassificationIsMostWrong', 'acc_ws_and_al_GreatestDisagreement', 'acc_al_and_al_GreatestDisagreement']\n",
      "Which are better than initial, with WS? ['acc_ws_and_al_UncertaintyMaxMargin_no_ws', 'acc_ws_and_al_UncertaintyMaxMargin_with_ws', 'acc_ws_and_al_Random', 'acc_ws_and_al_CoveredByLeastAmountOfLf', 'acc_ws_and_al_ClassificationIsMostWrong', 'acc_ws_and_al_GreatestDisagreement']\n",
      "Where is al+ws+al better than al+al? ['acc_ws_and_al_UncertaintyMaxMargin_no_ws', 'acc_ws_and_al_UncertaintyMaxMargin_with_ws', 'acc_ws_and_al_Random', 'acc_ws_and_al_CoveredByLeastAmountOfLf', 'acc_ws_and_al_ClassificationIsMostWrong', 'acc_ws_and_al_GreatestDisagreement']\n",
      "Which are better than initial? ['f1_al_and_al_UncertaintyMaxMargin_no_ws', 'f1_al_and_al_UncertaintyMaxMargin_with_ws', 'f1_al_and_al_Random', 'f1_al_and_al_CoveredByLeastAmountOfLf', 'f1_al_and_al_ClassificationIsMostWrong', 'f1_al_and_al_GreatestDisagreement']\n",
      "Which are better than initial, with WS? []\n",
      "Where is al+ws+al better than al+al? []\n",
      "\n",
      "dwtc :  316\n",
      "Which are better than initial? ['acc_ws', 'acc_ws_and_al_UncertaintyMaxMargin_no_ws', 'acc_al_and_al_UncertaintyMaxMargin_no_ws', 'acc_ws_and_al_UncertaintyMaxMargin_with_ws', 'acc_al_and_al_UncertaintyMaxMargin_with_ws', 'acc_ws_and_al_Random', 'acc_al_and_al_Random', 'acc_ws_and_al_CoveredByLeastAmountOfLf', 'acc_al_and_al_CoveredByLeastAmountOfLf', 'acc_ws_and_al_ClassificationIsMostWrong', 'acc_al_and_al_ClassificationIsMostWrong', 'acc_ws_and_al_GreatestDisagreement', 'acc_al_and_al_GreatestDisagreement']\n",
      "Which are better than initial, with WS? ['acc_ws_and_al_UncertaintyMaxMargin_no_ws', 'acc_ws_and_al_UncertaintyMaxMargin_with_ws', 'acc_ws_and_al_Random', 'acc_ws_and_al_CoveredByLeastAmountOfLf', 'acc_ws_and_al_ClassificationIsMostWrong', 'acc_ws_and_al_GreatestDisagreement']\n",
      "Where is al+ws+al better than al+al? ['acc_ws_and_al_UncertaintyMaxMargin_no_ws', 'acc_ws_and_al_UncertaintyMaxMargin_with_ws', 'acc_ws_and_al_Random', 'acc_ws_and_al_CoveredByLeastAmountOfLf', 'acc_ws_and_al_ClassificationIsMostWrong', 'acc_ws_and_al_GreatestDisagreement']\n",
      "Which are better than initial? ['f1_al_and_al_UncertaintyMaxMargin_no_ws', 'f1_al_and_al_UncertaintyMaxMargin_with_ws', 'f1_al_and_al_Random', 'f1_al_and_al_CoveredByLeastAmountOfLf', 'f1_al_and_al_GreatestDisagreement']\n",
      "Which are better than initial, with WS? []\n",
      "Where is al+ws+al better than al+al? []\n",
      "\n",
      "olivetti :  214\n",
      "Which are better than initial? ['acc_ws', 'acc_ws_and_al_UncertaintyMaxMargin_no_ws', 'acc_ws_and_al_UncertaintyMaxMargin_with_ws', 'acc_ws_and_al_Random', 'acc_ws_and_al_CoveredByLeastAmountOfLf', 'acc_al_and_al_CoveredByLeastAmountOfLf', 'acc_ws_and_al_ClassificationIsMostWrong', 'acc_al_and_al_ClassificationIsMostWrong', 'acc_ws_and_al_GreatestDisagreement']\n",
      "Which are better than initial, with WS? ['acc_ws_and_al_UncertaintyMaxMargin_no_ws', 'acc_ws_and_al_UncertaintyMaxMargin_with_ws', 'acc_ws_and_al_Random', 'acc_ws_and_al_CoveredByLeastAmountOfLf', 'acc_ws_and_al_ClassificationIsMostWrong', 'acc_ws_and_al_GreatestDisagreement']\n",
      "Where is al+ws+al better than al+al? ['acc_ws_and_al_UncertaintyMaxMargin_no_ws', 'acc_ws_and_al_UncertaintyMaxMargin_with_ws', 'acc_ws_and_al_Random', 'acc_ws_and_al_CoveredByLeastAmountOfLf', 'acc_ws_and_al_ClassificationIsMostWrong', 'acc_ws_and_al_GreatestDisagreement']\n",
      "Which are better than initial? ['f1_ws', 'f1_ws_and_al_UncertaintyMaxMargin_no_ws', 'f1_al_and_al_UncertaintyMaxMargin_no_ws', 'f1_ws_and_al_UncertaintyMaxMargin_with_ws', 'f1_al_and_al_UncertaintyMaxMargin_with_ws', 'f1_ws_and_al_Random', 'f1_al_and_al_Random', 'f1_ws_and_al_CoveredByLeastAmountOfLf', 'f1_al_and_al_CoveredByLeastAmountOfLf', 'f1_ws_and_al_ClassificationIsMostWrong', 'f1_al_and_al_ClassificationIsMostWrong', 'f1_ws_and_al_GreatestDisagreement', 'f1_al_and_al_GreatestDisagreement']\n",
      "Which are better than initial, with WS? ['f1_ws_and_al_UncertaintyMaxMargin_no_ws', 'f1_ws_and_al_UncertaintyMaxMargin_with_ws', 'f1_ws_and_al_Random', 'f1_ws_and_al_CoveredByLeastAmountOfLf', 'f1_ws_and_al_ClassificationIsMostWrong', 'f1_ws_and_al_GreatestDisagreement']\n",
      "Where is al+ws+al better than al+al? ['f1_ws_and_al_UncertaintyMaxMargin_no_ws', 'f1_ws_and_al_UncertaintyMaxMargin_with_ws', 'f1_ws_and_al_Random', 'f1_ws_and_al_CoveredByLeastAmountOfLf', 'f1_ws_and_al_ClassificationIsMostWrong', 'f1_ws_and_al_GreatestDisagreement']\n",
      "\n",
      "glass :  292\n",
      "Which are better than initial? ['acc_ws', 'acc_ws_and_al_UncertaintyMaxMargin_no_ws', 'acc_al_and_al_UncertaintyMaxMargin_no_ws', 'acc_ws_and_al_UncertaintyMaxMargin_with_ws', 'acc_al_and_al_UncertaintyMaxMargin_with_ws', 'acc_ws_and_al_Random', 'acc_al_and_al_Random', 'acc_ws_and_al_CoveredByLeastAmountOfLf', 'acc_al_and_al_CoveredByLeastAmountOfLf', 'acc_ws_and_al_ClassificationIsMostWrong', 'acc_al_and_al_ClassificationIsMostWrong', 'acc_ws_and_al_GreatestDisagreement', 'acc_al_and_al_GreatestDisagreement']\n",
      "Which are better than initial, with WS? ['acc_ws_and_al_UncertaintyMaxMargin_no_ws', 'acc_ws_and_al_UncertaintyMaxMargin_with_ws', 'acc_ws_and_al_Random', 'acc_ws_and_al_CoveredByLeastAmountOfLf', 'acc_ws_and_al_ClassificationIsMostWrong', 'acc_ws_and_al_GreatestDisagreement']\n",
      "Where is al+ws+al better than al+al? ['acc_ws_and_al_UncertaintyMaxMargin_no_ws', 'acc_ws_and_al_UncertaintyMaxMargin_with_ws', 'acc_ws_and_al_Random', 'acc_ws_and_al_CoveredByLeastAmountOfLf', 'acc_ws_and_al_ClassificationIsMostWrong', 'acc_ws_and_al_GreatestDisagreement']\n",
      "Which are better than initial? ['f1_al_and_al_UncertaintyMaxMargin_no_ws', 'f1_al_and_al_UncertaintyMaxMargin_with_ws', 'f1_al_and_al_Random', 'f1_al_and_al_CoveredByLeastAmountOfLf', 'f1_al_and_al_GreatestDisagreement']\n",
      "Which are better than initial, with WS? []\n",
      "Where is al+ws+al better than al+al? []\n",
      "\n",
      "zoo :  272\n",
      "Which are better than initial? ['acc_al_and_al_UncertaintyMaxMargin_no_ws', 'acc_al_and_al_UncertaintyMaxMargin_with_ws', 'acc_al_and_al_Random', 'acc_al_and_al_CoveredByLeastAmountOfLf', 'acc_al_and_al_ClassificationIsMostWrong', 'acc_al_and_al_GreatestDisagreement']\n",
      "Which are better than initial, with WS? []\n",
      "Where is al+ws+al better than al+al? []\n",
      "Which are better than initial? ['f1_al_and_al_UncertaintyMaxMargin_no_ws', 'f1_al_and_al_UncertaintyMaxMargin_with_ws', 'f1_al_and_al_Random', 'f1_al_and_al_CoveredByLeastAmountOfLf', 'f1_al_and_al_ClassificationIsMostWrong', 'f1_al_and_al_GreatestDisagreement']\n",
      "Which are better than initial, with WS? []\n",
      "Where is al+ws+al better than al+al? []\n",
      "\n",
      "adult :  305\n",
      "Which are better than initial? []\n",
      "Which are better than initial, with WS? []\n",
      "Where is al+ws+al better than al+al? ['acc_ws_and_al_UncertaintyMaxMargin_no_ws', 'acc_ws_and_al_UncertaintyMaxMargin_with_ws', 'acc_ws_and_al_Random', 'acc_ws_and_al_CoveredByLeastAmountOfLf', 'acc_ws_and_al_ClassificationIsMostWrong', 'acc_ws_and_al_GreatestDisagreement']\n",
      "Which are better than initial? []\n",
      "Which are better than initial, with WS? []\n",
      "Where is al+ws+al better than al+al? ['f1_ws_and_al_UncertaintyMaxMargin_no_ws', 'f1_ws_and_al_UncertaintyMaxMargin_with_ws', 'f1_ws_and_al_Random', 'f1_ws_and_al_CoveredByLeastAmountOfLf', 'f1_ws_and_al_ClassificationIsMostWrong', 'f1_ws_and_al_GreatestDisagreement']\n",
      "\n",
      "cifar10 :  301\n",
      "Which are better than initial? ['acc_al_and_al_UncertaintyMaxMargin_no_ws', 'acc_al_and_al_UncertaintyMaxMargin_with_ws', 'acc_al_and_al_Random', 'acc_al_and_al_CoveredByLeastAmountOfLf', 'acc_al_and_al_ClassificationIsMostWrong', 'acc_al_and_al_GreatestDisagreement']\n",
      "Which are better than initial, with WS? []\n",
      "Where is al+ws+al better than al+al? []\n",
      "Which are better than initial? ['f1_al_and_al_UncertaintyMaxMargin_no_ws', 'f1_al_and_al_UncertaintyMaxMargin_with_ws', 'f1_al_and_al_Random', 'f1_al_and_al_CoveredByLeastAmountOfLf', 'f1_al_and_al_ClassificationIsMostWrong', 'f1_al_and_al_GreatestDisagreement']\n",
      "Which are better than initial, with WS? []\n",
      "Where is al+ws+al better than al+al? []\n",
      "\n",
      "################################################################################\n",
      "MERGE_WS_SAMPLES_STRATEGY\n",
      "################################################################################\n",
      "\n",
      "MajorityVoteLabelMergeStrategy :  3423\n",
      "Which are better than initial? ['acc_al_and_al_UncertaintyMaxMargin_no_ws', 'acc_al_and_al_UncertaintyMaxMargin_with_ws']\n",
      "Which are better than initial, with WS? []\n",
      "Where is al+ws+al better than al+al? []\n",
      "Which are better than initial? ['f1_al_and_al_UncertaintyMaxMargin_no_ws', 'f1_al_and_al_UncertaintyMaxMargin_with_ws', 'f1_al_and_al_Random', 'f1_al_and_al_CoveredByLeastAmountOfLf', 'f1_al_and_al_GreatestDisagreement']\n",
      "Which are better than initial, with WS? []\n",
      "Where is al+ws+al better than al+al? []\n",
      "\n",
      "RandomLabelMergeStrategy :  3484\n",
      "Which are better than initial? ['acc_al_and_al_UncertaintyMaxMargin_no_ws', 'acc_al_and_al_UncertaintyMaxMargin_with_ws', 'acc_al_and_al_Random', 'acc_al_and_al_CoveredByLeastAmountOfLf', 'acc_al_and_al_GreatestDisagreement']\n",
      "Which are better than initial, with WS? []\n",
      "Where is al+ws+al better than al+al? []\n",
      "Which are better than initial? ['f1_al_and_al_UncertaintyMaxMargin_no_ws', 'f1_al_and_al_UncertaintyMaxMargin_with_ws', 'f1_al_and_al_Random', 'f1_al_and_al_CoveredByLeastAmountOfLf', 'f1_al_and_al_GreatestDisagreement']\n",
      "Which are better than initial, with WS? []\n",
      "Where is al+ws+al better than al+al? []\n",
      "\n",
      "SnorkelLabelMergeStrategy :  2432\n",
      "Which are better than initial? ['acc_al_and_al_UncertaintyMaxMargin_no_ws', 'acc_al_and_al_UncertaintyMaxMargin_with_ws', 'acc_al_and_al_Random', 'acc_al_and_al_CoveredByLeastAmountOfLf', 'acc_al_and_al_GreatestDisagreement']\n",
      "Which are better than initial, with WS? []\n",
      "Where is al+ws+al better than al+al? []\n",
      "Which are better than initial? ['f1_al_and_al_UncertaintyMaxMargin_no_ws', 'f1_al_and_al_UncertaintyMaxMargin_with_ws', 'f1_al_and_al_Random', 'f1_al_and_al_CoveredByLeastAmountOfLf', 'f1_al_and_al_GreatestDisagreement']\n",
      "Which are better than initial, with WS? []\n",
      "Where is al+ws+al better than al+al? []\n"
     ]
    }
   ],
   "source": [
    "\n",
    "\n",
    "# group by stuff\n",
    "for group_by in ['DATASET', 'MERGE_WS_SAMPLES_STRATEGY']:\n",
    "    print()\n",
    "    print(\"#\"*80)\n",
    "    print(group_by)\n",
    "    print(\"#\"*80)\n",
    "    for group_by_value in df[group_by].unique():\n",
    "        print()\n",
    "        print(group_by_value, \": \", len(df[df[group_by] == group_by_value]))\n",
    "        for metric in ['acc', 'f1']:\n",
    "            COMPARE_KEYS = [metric+\"_initial\", metric +\"_ws\"]\n",
    "            for AL_SAMPLING_STRATEGY in [\"UncertaintyMaxMargin_no_ws\",\n",
    "                    \"UncertaintyMaxMargin_with_ws\",\n",
    "                    \"Random\",\n",
    "                    \"CoveredByLeastAmountOfLf\",\n",
    "                    \"ClassificationIsMostWrong\",\n",
    "                    \"GreatestDisagreement\"]:\n",
    "                    COMPARE_KEYS.append(metric + '_ws_and_al_'+AL_SAMPLING_STRATEGY)\n",
    "                    COMPARE_KEYS.append(metric + '_al_and_al_'+AL_SAMPLING_STRATEGY)\n",
    "            #comparison_table(df, COMPARE_KEYS=COMPARE_KEYS, TITLE=\"General Improvement after AL + WS \" + metric)\n",
    "            answer_questions(df[df[group_by] == group_by_value], COMPARE_KEYS=COMPARE_KEYS, metric=metric)"
   ]
  },
  {
   "cell_type": "code",
   "execution_count": 24,
   "metadata": {},
   "outputs": [
    {
     "name": "stdout",
     "output_type": "stream",
     "text": [
      "  city keep1  f1_ws_and_al_U  f1_al_and_al_U  f1_ws_and_al_R  f1_al_and_al_R  \\\n",
      "0    A     D               1               4               7              10   \n",
      "1    B     E               2               5               8              11   \n",
      "2    C     F               3               6               9              12   \n",
      "\n",
      "   f1_ws_and_al_X  f1_al_and_al_X  acc_ws_and_al_U  acc_al_and_al_U  \\\n",
      "0              13              16               19               22   \n",
      "1              14              17               20               23   \n",
      "2              15              18               21               24   \n",
      "\n",
      "   acc_ws_and_al_R  acc_al_and_al_R  acc_ws_and_al_X  acc_al_and_al_X  \n",
      "0               25               27               30               33  \n",
      "1               26               28               31               34  \n",
      "2               27               29               32               35  \n",
      "['f1_ws_and_al_U', 'f1_ws_and_al_R', 'f1_ws_and_al_X', 'f1_al_and_al_U', 'f1_al_and_al_R', 'f1_al_and_al_X', 'acc_ws_and_al_U', 'acc_ws_and_al_R', 'acc_ws_and_al_X', 'acc_al_and_al_U', 'acc_al_and_al_R', 'acc_al_and_al_X']\n"
     ]
    },
    {
     "data": {
      "text/html": "<div>\n<style scoped>\n    .dataframe tbody tr th:only-of-type {\n        vertical-align: middle;\n    }\n\n    .dataframe tbody tr th {\n        vertical-align: top;\n    }\n\n    .dataframe thead th {\n        text-align: right;\n    }\n</style>\n<table border=\"1\" class=\"dataframe\">\n  <thead>\n    <tr style=\"text-align: right;\">\n      <th></th>\n      <th>acc_al_and_al</th>\n      <th>acc_al_and_ws_and_al</th>\n      <th>city</th>\n      <th>f1_al_and_al</th>\n      <th>f1_al_and_ws_and_al</th>\n      <th>keep1</th>\n    </tr>\n  </thead>\n  <tbody>\n    <tr>\n      <th>0</th>\n      <td>22.0</td>\n      <td>19.0</td>\n      <td>A</td>\n      <td>4.0</td>\n      <td>1.0</td>\n      <td>D</td>\n    </tr>\n    <tr>\n      <th>0</th>\n      <td>27.0</td>\n      <td>25.0</td>\n      <td>A</td>\n      <td>10.0</td>\n      <td>7.0</td>\n      <td>D</td>\n    </tr>\n    <tr>\n      <th>0</th>\n      <td>33.0</td>\n      <td>30.0</td>\n      <td>A</td>\n      <td>16.0</td>\n      <td>13.0</td>\n      <td>D</td>\n    </tr>\n    <tr>\n      <th>1</th>\n      <td>23.0</td>\n      <td>20.0</td>\n      <td>B</td>\n      <td>5.0</td>\n      <td>2.0</td>\n      <td>E</td>\n    </tr>\n    <tr>\n      <th>1</th>\n      <td>28.0</td>\n      <td>26.0</td>\n      <td>B</td>\n      <td>11.0</td>\n      <td>8.0</td>\n      <td>E</td>\n    </tr>\n    <tr>\n      <th>1</th>\n      <td>34.0</td>\n      <td>31.0</td>\n      <td>B</td>\n      <td>17.0</td>\n      <td>14.0</td>\n      <td>E</td>\n    </tr>\n    <tr>\n      <th>2</th>\n      <td>24.0</td>\n      <td>21.0</td>\n      <td>C</td>\n      <td>6.0</td>\n      <td>3.0</td>\n      <td>F</td>\n    </tr>\n    <tr>\n      <th>2</th>\n      <td>29.0</td>\n      <td>27.0</td>\n      <td>C</td>\n      <td>12.0</td>\n      <td>9.0</td>\n      <td>F</td>\n    </tr>\n    <tr>\n      <th>2</th>\n      <td>35.0</td>\n      <td>32.0</td>\n      <td>C</td>\n      <td>18.0</td>\n      <td>15.0</td>\n      <td>F</td>\n    </tr>\n  </tbody>\n</table>\n</div>",
      "text/plain": "   acc_al_and_al  acc_al_and_ws_and_al city  f1_al_and_al  \\\n0           22.0                  19.0    A           4.0   \n0           27.0                  25.0    A          10.0   \n0           33.0                  30.0    A          16.0   \n1           23.0                  20.0    B           5.0   \n1           28.0                  26.0    B          11.0   \n1           34.0                  31.0    B          17.0   \n2           24.0                  21.0    C           6.0   \n2           29.0                  27.0    C          12.0   \n2           35.0                  32.0    C          18.0   \n\n   f1_al_and_ws_and_al keep1  \n0                  1.0     D  \n0                  7.0     D  \n0                 13.0     D  \n1                  2.0     E  \n1                  8.0     E  \n1                 14.0     E  \n2                  3.0     F  \n2                  9.0     F  \n2                 15.0     F  "
     },
     "execution_count": 24,
     "metadata": {},
     "output_type": "execute_result"
    }
   ],
   "source": [
    "#andersherum an die Sache gehen : im großen df schauen wo al_ws_al better than al+al -> und dann schauen wie viel prozent davon jeweils auf die einzelnen werte von datasets, … verteilt sind!!\n",
    "df1 = pd.DataFrame({'city':['A','B','C'],\n",
    "                    'keep1':['D', 'E', 'F'],\n",
    "                    'f1_ws_and_al_U':[1,2,3],\n",
    "                    'f1_al_and_al_U':[4,5,6],\n",
    "                    'f1_ws_and_al_R':[7,8,9],\n",
    "                    'f1_al_and_al_R':[10,11,12],\n",
    "                    'f1_ws_and_al_X':[13,14,15],\n",
    "                    'f1_al_and_al_X':[16,17,18],\n",
    "\n",
    "                    'acc_ws_and_al_U':[19,20,21],\n",
    "                    'acc_al_and_al_U':[22,23,24],\n",
    "                    'acc_ws_and_al_R':[25,26,27],\n",
    "                    'acc_al_and_al_R':[27,28,29],\n",
    "                    'acc_ws_and_al_X':[30,31,32],\n",
    "                    'acc_al_and_al_X':[33,34,35],\n",
    "})\n",
    "print(df1)\n",
    "\n",
    "\n",
    "\n",
    "\n",
    "df_new = pd.DataFrame()\n",
    "al_sampling_strategies = [\"U\", \"R\", \"X\"]\n",
    "to_split_metrics = (\n",
    "    [\"f1_ws_and_al_\" + k for k in al_sampling_strategies]\n",
    "    + [\"f1_al_and_al_\" + k for k in al_sampling_strategies]\n",
    "    + [\"acc_ws_and_al_\" + k for k in al_sampling_strategies]\n",
    "    + [\"acc_al_and_al_\" + k for k in al_sampling_strategies]\n",
    ")\n",
    "print(to_split_metrics)\n",
    "\n",
    "for _, row in df1.iterrows():\n",
    "    for al_sampling_strategy in al_sampling_strategies:\n",
    "        # remove all other metrics\n",
    "        row2 = row.drop(\n",
    "            [m for m in to_split_metrics if not m.endswith(al_sampling_strategy)]\n",
    "        )\n",
    "        row2 = row2.rename(\n",
    "            {\n",
    "                \"f1_ws_and_al_\" + al_sampling_strategy: \"f1_al_and_ws_and_al\",\n",
    "                \"acc_ws_and_al_\" + al_sampling_strategy: \"acc_al_and_ws_and_al\",\n",
    "                \"f1_al_and_al_\" + al_sampling_strategy: \"f1_al_and_al\",\n",
    "                \"acc_al_and_al_\" + al_sampling_strategy: \"acc_al_and_al\",\n",
    "            }\n",
    "        )\n",
    "        df_new = df_new.append(row2)\n",
    "\n",
    "df_new"
   ]
  },
  {
   "cell_type": "code",
   "execution_count": 25,
   "metadata": {},
   "outputs": [
    {
     "name": "stdout",
     "output_type": "stream",
     "text": [
      "['f1_ws_and_al_UncertaintyMaxMargin_no_ws', 'f1_ws_and_al_UncertaintyMaxMargin_with_ws', 'f1_ws_and_al_Random', 'f1_ws_and_al_CoveredByLeastAmountOfLf', 'f1_ws_and_al_ClassificationIsMostWrong', 'f1_ws_and_al_GreatestDisagreement', 'f1_al_and_al_UncertaintyMaxMargin_no_ws', 'f1_al_and_al_UncertaintyMaxMargin_with_ws', 'f1_al_and_al_Random', 'f1_al_and_al_CoveredByLeastAmountOfLf', 'f1_al_and_al_ClassificationIsMostWrong', 'f1_al_and_al_GreatestDisagreement', 'acc_ws_and_al_UncertaintyMaxMargin_no_ws', 'acc_ws_and_al_UncertaintyMaxMargin_with_ws', 'acc_ws_and_al_Random', 'acc_ws_and_al_CoveredByLeastAmountOfLf', 'acc_ws_and_al_ClassificationIsMostWrong', 'acc_ws_and_al_GreatestDisagreement', 'acc_al_and_al_UncertaintyMaxMargin_no_ws', 'acc_al_and_al_UncertaintyMaxMargin_with_ws', 'acc_al_and_al_Random', 'acc_al_and_al_CoveredByLeastAmountOfLf', 'acc_al_and_al_ClassificationIsMostWrong', 'acc_al_and_al_GreatestDisagreement']\n"
     ]
    }
   ],
   "source": [
    "CREATE_CSV = True\n",
    "if CREATE_CSV:\n",
    "    # unravel al sampling strat metrics\n",
    "    al_sampling_strategies = [\n",
    "        \"UncertaintyMaxMargin_no_ws\",\n",
    "        \"UncertaintyMaxMargin_with_ws\",\n",
    "        \"Random\",\n",
    "        \"CoveredByLeastAmountOfLf\",\n",
    "        \"ClassificationIsMostWrong\",\n",
    "        \"GreatestDisagreement\",\n",
    "    ]\n",
    "\n",
    "    df_new = pd.DataFrame()\n",
    "    to_split_metrics = (\n",
    "        [\"f1_ws_and_al_\" + k for k in al_sampling_strategies]\n",
    "        + [\"f1_al_and_al_\" + k for k in al_sampling_strategies]\n",
    "        + [\"acc_ws_and_al_\" + k for k in al_sampling_strategies]\n",
    "        + [\"acc_al_and_al_\" + k for k in al_sampling_strategies]\n",
    "    )\n",
    "    print(to_split_metrics)\n",
    "\n",
    "    for _, row in df.iterrows():\n",
    "        for al_sampling_strategy in al_sampling_strategies:\n",
    "            # remove all other metrics\n",
    "            row2 = row.drop(\n",
    "                [m for m in to_split_metrics if not m.endswith(al_sampling_strategy)]\n",
    "            )\n",
    "            row2 = row2.rename(\n",
    "                {\n",
    "                    \"f1_ws_and_al_\" + al_sampling_strategy: \"f1_al_and_ws_and_al\",\n",
    "                    \"acc_ws_and_al_\" + al_sampling_strategy: \"acc_al_and_ws_and_al\",\n",
    "                    \"f1_al_and_al_\" + al_sampling_strategy: \"f1_al_and_al\",\n",
    "                    \"acc_al_and_al_\" + al_sampling_strategy: \"acc_al_and_al\",\n",
    "                }\n",
    "            )\n",
    "            row2['al_sampling_strategy'] = al_sampling_strategy\n",
    "            df_new = df_new.append(row2)\n",
    "\n",
    "    df_new"
   ]
  },
  {
   "cell_type": "code",
   "execution_count": 26,
   "metadata": {},
   "outputs": [],
   "source": [
    "if CREATE_CSV:\n",
    "    df_new.to_csv(\"how_to.csv\", index=False)"
   ]
  },
  {
   "cell_type": "code",
   "execution_count": 27,
   "metadata": {},
   "outputs": [
    {
     "name": "stdout",
     "output_type": "stream",
     "text": [
      "Index(['ABSTAIN_THRESHOLDS', 'AL_SAMPLES_WEIGHT', 'AMOUNT_OF_LFS',\n",
      "       'AMOUNT_OF_LF_FEATURESSS', 'DATASET', 'DATASET_RANDOM_GENERATION_SEED',\n",
      "       'FRACTION_OF_INITIALLY_LABELLED_SAMPLES',\n",
      "       'FRACTION_OF_LASTLY_AL_LABELLED_SAMPLES', 'JOB_ID', 'LF_CLASSIFIERS',\n",
      "       'LF_RANDOM_SEED', 'MERGE_WS_SAMPLES_STRATEGY', 'acc_al_and_al',\n",
      "       'acc_al_and_ws_and_al', 'acc_initial', 'acc_ws', 'al_sampling_strategy',\n",
      "       'amount_of_initial_al_samples', 'amount_of_lastly_al_samples',\n",
      "       'class_sep', 'f1_al_and_al', 'f1_al_and_ws_and_al', 'f1_initial',\n",
      "       'f1_ws', 'flip_y', 'hypercube', 'n_classes', 'n_clusters_per_class',\n",
      "       'n_features', 'n_informative', 'n_redundant', 'n_repeated', 'n_samples',\n",
      "       'random_state', 'scale', 'weights'],\n",
      "      dtype='object')\n",
      "Total:  56034\n",
      "AL_SAMPLES_WEIGHT\n",
      "AMOUNT_OF_LFS\n",
      "DATASET\n",
      "FRACTION_OF_INITIALLY_LABELLED_SAMPLES\n",
      "FRACTION_OF_LASTLY_AL_LABELLED_SAMPLES\n",
      "MERGE_WS_SAMPLES_STRATEGY\n",
      "al_sampling_strategy\n",
      "amount_of_initial_al_samples\n",
      "amount_of_lastly_al_samples\n",
      "class_sep\n",
      "flip_y\n",
      "hypercube\n",
      "n_classes\n",
      "n_clusters_per_class\n",
      "n_features\n",
      "n_informative\n",
      "n_redundant\n",
      "n_repeated\n",
      "n_samples\n",
      "scale\n",
      "weights\n"
     ]
    },
    {
     "name": "stderr",
     "output_type": "stream",
     "text": [
      "<ipython-input-27-05b32b7eac77>:35: UserWarning: Tight layout not applied. The left and right margins cannot be made large enough to accommodate all axes decorations. \n",
      "  plt.savefig('plots/' + title+ '_' + key + '.jpg', dpi=300, bbox_inches=\"tight\")\n",
      "<ipython-input-27-05b32b7eac77>:36: UserWarning: Tight layout not applied. The left and right margins cannot be made large enough to accommodate all axes decorations. \n",
      "  plt.savefig('plots/' + title+ '_' + key + '.pdf',dpi=300, format=\"pdf\", bbox_inches=\"tight\")\n",
      "<ipython-input-27-05b32b7eac77>:36: UserWarning: Tight layout not applied. The left and right margins cannot be made large enough to accommodate all axes decorations. \n",
      "  plt.savefig('plots/' + title+ '_' + key + '.pdf',dpi=300, format=\"pdf\", bbox_inches=\"tight\")\n"
     ]
    },
    {
     "name": "stdout",
     "output_type": "stream",
     "text": [
      "acc\n",
      "AL_SAMPLES_WEIGHT\n",
      "AMOUNT_OF_LFS\n",
      "DATASET\n",
      "FRACTION_OF_INITIALLY_LABELLED_SAMPLES\n",
      "FRACTION_OF_LASTLY_AL_LABELLED_SAMPLES\n",
      "MERGE_WS_SAMPLES_STRATEGY\n",
      "al_sampling_strategy\n",
      "amount_of_initial_al_samples\n",
      "amount_of_lastly_al_samples\n",
      "class_sep\n",
      "flip_y\n",
      "hypercube\n",
      "n_classes\n",
      "n_clusters_per_class\n",
      "n_features\n",
      "n_informative\n",
      "n_redundant\n",
      "n_repeated\n",
      "n_samples\n",
      "scale\n"
     ]
    },
    {
     "name": "stderr",
     "output_type": "stream",
     "text": [
      "<ipython-input-27-05b32b7eac77>:46: RuntimeWarning: More than 20 figures have been opened. Figures created through the pyplot interface (`matplotlib.pyplot.figure`) are retained until explicitly closed and may consume too much memory. (To control this warning, see the rcParam `figure.max_open_warning`).\n",
      "  f, (ax1, ax2) = plt.subplots(1, 2, sharey=True, sharex=True)\n"
     ]
    },
    {
     "name": "stdout",
     "output_type": "stream",
     "text": [
      "weights\n"
     ]
    },
    {
     "name": "stderr",
     "output_type": "stream",
     "text": [
      "<ipython-input-27-05b32b7eac77>:50: UserWarning: Tight layout not applied. The left and right margins cannot be made large enough to accommodate all axes decorations. \n",
      "  plt.savefig(\"plots/\" + title + \"_\" + key + \".jpg\", dpi=300, bbox_inches=\"tight\")\n",
      "<ipython-input-27-05b32b7eac77>:51: UserWarning: Tight layout not applied. The left and right margins cannot be made large enough to accommodate all axes decorations. \n",
      "  plt.savefig(\n",
      "<ipython-input-27-05b32b7eac77>:51: UserWarning: Tight layout not applied. The left and right margins cannot be made large enough to accommodate all axes decorations. \n",
      "  plt.savefig(\n"
     ]
    },
    {
     "name": "stdout",
     "output_type": "stream",
     "text": [
      "AL_SAMPLES_WEIGHT\n",
      "AMOUNT_OF_LFS\n",
      "DATASET\n",
      "FRACTION_OF_INITIALLY_LABELLED_SAMPLES\n",
      "FRACTION_OF_LASTLY_AL_LABELLED_SAMPLES\n",
      "MERGE_WS_SAMPLES_STRATEGY\n",
      "al_sampling_strategy\n",
      "amount_of_initial_al_samples\n",
      "amount_of_lastly_al_samples\n",
      "class_sep\n",
      "flip_y\n",
      "hypercube\n",
      "n_classes\n",
      "n_clusters_per_class\n",
      "n_features\n",
      "n_informative\n",
      "n_redundant\n",
      "n_repeated\n",
      "n_samples\n",
      "scale\n",
      "weights\n"
     ]
    },
    {
     "name": "stderr",
     "output_type": "stream",
     "text": [
      "<ipython-input-27-05b32b7eac77>:50: UserWarning: Tight layout not applied. The left and right margins cannot be made large enough to accommodate all axes decorations. \n",
      "  plt.savefig(\"plots/\" + title + \"_\" + key + \".jpg\", dpi=300, bbox_inches=\"tight\")\n",
      "<ipython-input-27-05b32b7eac77>:51: UserWarning: Tight layout not applied. The left and right margins cannot be made large enough to accommodate all axes decorations. \n",
      "  plt.savefig(\n",
      "<ipython-input-27-05b32b7eac77>:51: UserWarning: Tight layout not applied. The left and right margins cannot be made large enough to accommodate all axes decorations. \n",
      "  plt.savefig(\n"
     ]
    },
    {
     "name": "stdout",
     "output_type": "stream",
     "text": [
      "AL_SAMPLES_WEIGHT\n",
      "AMOUNT_OF_LFS\n",
      "DATASET\n",
      "FRACTION_OF_INITIALLY_LABELLED_SAMPLES\n",
      "FRACTION_OF_LASTLY_AL_LABELLED_SAMPLES\n",
      "MERGE_WS_SAMPLES_STRATEGY\n",
      "al_sampling_strategy\n",
      "amount_of_initial_al_samples\n",
      "amount_of_lastly_al_samples\n",
      "class_sep\n",
      "flip_y\n",
      "hypercube\n",
      "n_classes\n",
      "n_clusters_per_class\n",
      "n_features\n",
      "n_informative\n",
      "n_redundant\n",
      "n_repeated\n",
      "n_samples\n",
      "scale\n",
      "weights\n"
     ]
    },
    {
     "name": "stderr",
     "output_type": "stream",
     "text": [
      "<ipython-input-27-05b32b7eac77>:50: UserWarning: Tight layout not applied. The left and right margins cannot be made large enough to accommodate all axes decorations. \n",
      "  plt.savefig(\"plots/\" + title + \"_\" + key + \".jpg\", dpi=300, bbox_inches=\"tight\")\n",
      "<ipython-input-27-05b32b7eac77>:51: UserWarning: Tight layout not applied. The left and right margins cannot be made large enough to accommodate all axes decorations. \n",
      "  plt.savefig(\n",
      "<ipython-input-27-05b32b7eac77>:51: UserWarning: Tight layout not applied. The left and right margins cannot be made large enough to accommodate all axes decorations. \n",
      "  plt.savefig(\n"
     ]
    },
    {
     "name": "stdout",
     "output_type": "stream",
     "text": [
      "AL_SAMPLES_WEIGHT\n",
      "AMOUNT_OF_LFS\n",
      "DATASET\n",
      "FRACTION_OF_INITIALLY_LABELLED_SAMPLES\n",
      "FRACTION_OF_LASTLY_AL_LABELLED_SAMPLES\n",
      "MERGE_WS_SAMPLES_STRATEGY\n",
      "al_sampling_strategy\n",
      "amount_of_initial_al_samples\n",
      "amount_of_lastly_al_samples\n",
      "class_sep\n",
      "flip_y\n",
      "hypercube\n",
      "n_classes\n",
      "n_clusters_per_class\n",
      "n_features\n",
      "n_informative\n",
      "n_redundant\n",
      "n_repeated\n",
      "n_samples\n",
      "scale\n",
      "weights\n"
     ]
    },
    {
     "name": "stderr",
     "output_type": "stream",
     "text": [
      "<ipython-input-27-05b32b7eac77>:50: UserWarning: Tight layout not applied. The left and right margins cannot be made large enough to accommodate all axes decorations. \n",
      "  plt.savefig(\"plots/\" + title + \"_\" + key + \".jpg\", dpi=300, bbox_inches=\"tight\")\n",
      "<ipython-input-27-05b32b7eac77>:51: UserWarning: Tight layout not applied. The left and right margins cannot be made large enough to accommodate all axes decorations. \n",
      "  plt.savefig(\n",
      "<ipython-input-27-05b32b7eac77>:51: UserWarning: Tight layout not applied. The left and right margins cannot be made large enough to accommodate all axes decorations. \n",
      "  plt.savefig(\n"
     ]
    },
    {
     "name": "stdout",
     "output_type": "stream",
     "text": [
      "AL_SAMPLES_WEIGHT\n",
      "AMOUNT_OF_LFS\n",
      "DATASET\n",
      "FRACTION_OF_INITIALLY_LABELLED_SAMPLES\n",
      "FRACTION_OF_LASTLY_AL_LABELLED_SAMPLES\n",
      "MERGE_WS_SAMPLES_STRATEGY\n",
      "al_sampling_strategy\n",
      "amount_of_initial_al_samples\n",
      "amount_of_lastly_al_samples\n",
      "class_sep\n",
      "flip_y\n",
      "hypercube\n",
      "n_classes\n",
      "n_clusters_per_class\n",
      "n_features\n",
      "n_informative\n",
      "n_redundant\n",
      "n_repeated\n",
      "n_samples\n",
      "scale\n",
      "weights\n"
     ]
    },
    {
     "name": "stderr",
     "output_type": "stream",
     "text": [
      "<ipython-input-27-05b32b7eac77>:50: UserWarning: Tight layout not applied. The left and right margins cannot be made large enough to accommodate all axes decorations. \n",
      "  plt.savefig(\"plots/\" + title + \"_\" + key + \".jpg\", dpi=300, bbox_inches=\"tight\")\n",
      "<ipython-input-27-05b32b7eac77>:51: UserWarning: Tight layout not applied. The left and right margins cannot be made large enough to accommodate all axes decorations. \n",
      "  plt.savefig(\n",
      "<ipython-input-27-05b32b7eac77>:51: UserWarning: Tight layout not applied. The left and right margins cannot be made large enough to accommodate all axes decorations. \n",
      "  plt.savefig(\n"
     ]
    },
    {
     "name": "stdout",
     "output_type": "stream",
     "text": [
      "f1\n",
      "AL_SAMPLES_WEIGHT\n",
      "AMOUNT_OF_LFS\n",
      "DATASET\n",
      "FRACTION_OF_INITIALLY_LABELLED_SAMPLES\n",
      "FRACTION_OF_LASTLY_AL_LABELLED_SAMPLES\n",
      "MERGE_WS_SAMPLES_STRATEGY\n",
      "al_sampling_strategy\n",
      "amount_of_initial_al_samples\n",
      "amount_of_lastly_al_samples\n",
      "class_sep\n",
      "flip_y\n",
      "hypercube\n",
      "n_classes\n",
      "n_clusters_per_class\n",
      "n_features\n",
      "n_informative\n",
      "n_redundant\n",
      "n_repeated\n",
      "n_samples\n",
      "scale\n",
      "weights\n"
     ]
    },
    {
     "name": "stderr",
     "output_type": "stream",
     "text": [
      "<ipython-input-27-05b32b7eac77>:50: UserWarning: Tight layout not applied. The left and right margins cannot be made large enough to accommodate all axes decorations. \n",
      "  plt.savefig(\"plots/\" + title + \"_\" + key + \".jpg\", dpi=300, bbox_inches=\"tight\")\n",
      "<ipython-input-27-05b32b7eac77>:51: UserWarning: Tight layout not applied. The left and right margins cannot be made large enough to accommodate all axes decorations. \n",
      "  plt.savefig(\n",
      "<ipython-input-27-05b32b7eac77>:51: UserWarning: Tight layout not applied. The left and right margins cannot be made large enough to accommodate all axes decorations. \n",
      "  plt.savefig(\n"
     ]
    },
    {
     "name": "stdout",
     "output_type": "stream",
     "text": [
      "AL_SAMPLES_WEIGHT\n",
      "AMOUNT_OF_LFS\n",
      "DATASET\n",
      "FRACTION_OF_INITIALLY_LABELLED_SAMPLES\n",
      "FRACTION_OF_LASTLY_AL_LABELLED_SAMPLES\n",
      "MERGE_WS_SAMPLES_STRATEGY\n",
      "al_sampling_strategy\n",
      "amount_of_initial_al_samples\n",
      "amount_of_lastly_al_samples\n",
      "class_sep\n",
      "flip_y\n",
      "hypercube\n",
      "n_classes\n",
      "n_clusters_per_class\n",
      "n_features\n",
      "n_informative\n",
      "n_redundant\n",
      "n_repeated\n",
      "n_samples\n",
      "scale\n",
      "weights\n"
     ]
    },
    {
     "name": "stderr",
     "output_type": "stream",
     "text": [
      "<ipython-input-27-05b32b7eac77>:50: UserWarning: Tight layout not applied. The left and right margins cannot be made large enough to accommodate all axes decorations. \n",
      "  plt.savefig(\"plots/\" + title + \"_\" + key + \".jpg\", dpi=300, bbox_inches=\"tight\")\n",
      "<ipython-input-27-05b32b7eac77>:51: UserWarning: Tight layout not applied. The left and right margins cannot be made large enough to accommodate all axes decorations. \n",
      "  plt.savefig(\n",
      "<ipython-input-27-05b32b7eac77>:51: UserWarning: Tight layout not applied. The left and right margins cannot be made large enough to accommodate all axes decorations. \n",
      "  plt.savefig(\n"
     ]
    },
    {
     "name": "stdout",
     "output_type": "stream",
     "text": [
      "AL_SAMPLES_WEIGHT\n",
      "AMOUNT_OF_LFS\n",
      "DATASET\n",
      "FRACTION_OF_INITIALLY_LABELLED_SAMPLES\n",
      "FRACTION_OF_LASTLY_AL_LABELLED_SAMPLES\n",
      "MERGE_WS_SAMPLES_STRATEGY\n",
      "al_sampling_strategy\n",
      "amount_of_initial_al_samples\n",
      "amount_of_lastly_al_samples\n",
      "class_sep\n",
      "flip_y\n",
      "hypercube\n",
      "n_classes\n",
      "n_clusters_per_class\n",
      "n_features\n",
      "n_informative\n",
      "n_redundant\n",
      "n_repeated\n",
      "n_samples\n",
      "scale\n",
      "weights\n"
     ]
    },
    {
     "name": "stderr",
     "output_type": "stream",
     "text": [
      "<ipython-input-27-05b32b7eac77>:50: UserWarning: Tight layout not applied. The left and right margins cannot be made large enough to accommodate all axes decorations. \n",
      "  plt.savefig(\"plots/\" + title + \"_\" + key + \".jpg\", dpi=300, bbox_inches=\"tight\")\n",
      "<ipython-input-27-05b32b7eac77>:51: UserWarning: Tight layout not applied. The left and right margins cannot be made large enough to accommodate all axes decorations. \n",
      "  plt.savefig(\n",
      "<ipython-input-27-05b32b7eac77>:51: UserWarning: Tight layout not applied. The left and right margins cannot be made large enough to accommodate all axes decorations. \n",
      "  plt.savefig(\n"
     ]
    },
    {
     "name": "stdout",
     "output_type": "stream",
     "text": [
      "AL_SAMPLES_WEIGHT\n",
      "AMOUNT_OF_LFS\n",
      "DATASET\n",
      "FRACTION_OF_INITIALLY_LABELLED_SAMPLES\n",
      "FRACTION_OF_LASTLY_AL_LABELLED_SAMPLES\n",
      "MERGE_WS_SAMPLES_STRATEGY\n",
      "al_sampling_strategy\n",
      "amount_of_initial_al_samples\n",
      "amount_of_lastly_al_samples\n",
      "class_sep\n",
      "flip_y\n",
      "hypercube\n",
      "n_classes\n",
      "n_clusters_per_class\n",
      "n_features\n",
      "n_informative\n",
      "n_redundant\n",
      "n_repeated\n",
      "n_samples\n",
      "scale\n",
      "weights\n"
     ]
    },
    {
     "name": "stderr",
     "output_type": "stream",
     "text": [
      "<ipython-input-27-05b32b7eac77>:50: UserWarning: Tight layout not applied. The left and right margins cannot be made large enough to accommodate all axes decorations. \n",
      "  plt.savefig(\"plots/\" + title + \"_\" + key + \".jpg\", dpi=300, bbox_inches=\"tight\")\n",
      "<ipython-input-27-05b32b7eac77>:51: UserWarning: Tight layout not applied. The left and right margins cannot be made large enough to accommodate all axes decorations. \n",
      "  plt.savefig(\n",
      "<ipython-input-27-05b32b7eac77>:51: UserWarning: Tight layout not applied. The left and right margins cannot be made large enough to accommodate all axes decorations. \n",
      "  plt.savefig(\n"
     ]
    },
    {
     "name": "stdout",
     "output_type": "stream",
     "text": [
      "AL_SAMPLES_WEIGHT\n",
      "AMOUNT_OF_LFS\n",
      "DATASET\n",
      "FRACTION_OF_INITIALLY_LABELLED_SAMPLES\n",
      "FRACTION_OF_LASTLY_AL_LABELLED_SAMPLES\n",
      "MERGE_WS_SAMPLES_STRATEGY\n",
      "al_sampling_strategy\n",
      "amount_of_initial_al_samples\n",
      "amount_of_lastly_al_samples\n",
      "class_sep\n",
      "flip_y\n",
      "hypercube\n",
      "n_classes\n",
      "n_clusters_per_class\n",
      "n_features\n",
      "n_informative\n",
      "n_redundant\n",
      "n_repeated\n",
      "n_samples\n",
      "scale\n",
      "weights\n"
     ]
    },
    {
     "name": "stderr",
     "output_type": "stream",
     "text": [
      "<ipython-input-27-05b32b7eac77>:50: UserWarning: Tight layout not applied. The left and right margins cannot be made large enough to accommodate all axes decorations. \n",
      "  plt.savefig(\"plots/\" + title + \"_\" + key + \".jpg\", dpi=300, bbox_inches=\"tight\")\n",
      "<ipython-input-27-05b32b7eac77>:51: UserWarning: Tight layout not applied. The left and right margins cannot be made large enough to accommodate all axes decorations. \n",
      "  plt.savefig(\n",
      "<ipython-input-27-05b32b7eac77>:51: UserWarning: Tight layout not applied. The left and right margins cannot be made large enough to accommodate all axes decorations. \n",
      "  plt.savefig(\n"
     ]
    },
    {
     "data": {
      "text/plain": "<Figure size 432x288 with 0 Axes>"
     },
     "metadata": {},
     "output_type": "display_data"
    },
    {
     "data": {
      "text/plain": "<Figure size 432x288 with 0 Axes>"
     },
     "metadata": {},
     "output_type": "display_data"
    },
    {
     "data": {
      "text/plain": "<Figure size 432x288 with 0 Axes>"
     },
     "metadata": {},
     "output_type": "display_data"
    },
    {
     "data": {
      "text/plain": "<Figure size 432x288 with 0 Axes>"
     },
     "metadata": {},
     "output_type": "display_data"
    },
    {
     "data": {
      "text/plain": "<Figure size 432x288 with 0 Axes>"
     },
     "metadata": {},
     "output_type": "display_data"
    },
    {
     "data": {
      "text/plain": "<Figure size 432x288 with 0 Axes>"
     },
     "metadata": {},
     "output_type": "display_data"
    },
    {
     "data": {
      "text/plain": "<Figure size 432x288 with 0 Axes>"
     },
     "metadata": {},
     "output_type": "display_data"
    },
    {
     "data": {
      "text/plain": "<Figure size 432x288 with 0 Axes>"
     },
     "metadata": {},
     "output_type": "display_data"
    },
    {
     "data": {
      "text/plain": "<Figure size 432x288 with 0 Axes>"
     },
     "metadata": {},
     "output_type": "display_data"
    },
    {
     "data": {
      "text/plain": "<Figure size 432x288 with 0 Axes>"
     },
     "metadata": {},
     "output_type": "display_data"
    },
    {
     "data": {
      "text/plain": "<Figure size 432x288 with 0 Axes>"
     },
     "metadata": {},
     "output_type": "display_data"
    },
    {
     "data": {
      "text/plain": "<Figure size 432x288 with 0 Axes>"
     },
     "metadata": {},
     "output_type": "display_data"
    },
    {
     "data": {
      "text/plain": "<Figure size 432x288 with 0 Axes>"
     },
     "metadata": {},
     "output_type": "display_data"
    },
    {
     "data": {
      "text/plain": "<Figure size 432x288 with 0 Axes>"
     },
     "metadata": {},
     "output_type": "display_data"
    },
    {
     "data": {
      "text/plain": "<Figure size 432x288 with 0 Axes>"
     },
     "metadata": {},
     "output_type": "display_data"
    },
    {
     "data": {
      "text/plain": "<Figure size 432x288 with 0 Axes>"
     },
     "metadata": {},
     "output_type": "display_data"
    },
    {
     "data": {
      "text/plain": "<Figure size 432x288 with 0 Axes>"
     },
     "metadata": {},
     "output_type": "display_data"
    },
    {
     "data": {
      "text/plain": "<Figure size 432x288 with 0 Axes>"
     },
     "metadata": {},
     "output_type": "display_data"
    },
    {
     "data": {
      "text/plain": "<Figure size 432x288 with 0 Axes>"
     },
     "metadata": {},
     "output_type": "display_data"
    },
    {
     "data": {
      "text/plain": "<Figure size 432x288 with 0 Axes>"
     },
     "metadata": {},
     "output_type": "display_data"
    },
    {
     "data": {
      "text/plain": "<Figure size 432x288 with 0 Axes>"
     },
     "metadata": {},
     "output_type": "display_data"
    },
    {
     "data": {
      "text/plain": "<Figure size 432x288 with 0 Axes>"
     },
     "metadata": {},
     "output_type": "display_data"
    },
    {
     "data": {
      "text/plain": "<Figure size 432x288 with 0 Axes>"
     },
     "metadata": {},
     "output_type": "display_data"
    },
    {
     "data": {
      "text/plain": "<Figure size 432x288 with 0 Axes>"
     },
     "metadata": {},
     "output_type": "display_data"
    },
    {
     "data": {
      "text/plain": "<Figure size 432x288 with 0 Axes>"
     },
     "metadata": {},
     "output_type": "display_data"
    },
    {
     "data": {
      "text/plain": "<Figure size 432x288 with 0 Axes>"
     },
     "metadata": {},
     "output_type": "display_data"
    },
    {
     "data": {
      "text/plain": "<Figure size 432x288 with 0 Axes>"
     },
     "metadata": {},
     "output_type": "display_data"
    },
    {
     "data": {
      "text/plain": "<Figure size 432x288 with 0 Axes>"
     },
     "metadata": {},
     "output_type": "display_data"
    },
    {
     "data": {
      "text/plain": "<Figure size 432x288 with 0 Axes>"
     },
     "metadata": {},
     "output_type": "display_data"
    },
    {
     "data": {
      "text/plain": "<Figure size 432x288 with 0 Axes>"
     },
     "metadata": {},
     "output_type": "display_data"
    },
    {
     "data": {
      "text/plain": "<Figure size 432x288 with 0 Axes>"
     },
     "metadata": {},
     "output_type": "display_data"
    },
    {
     "data": {
      "text/plain": "<Figure size 432x288 with 0 Axes>"
     },
     "metadata": {},
     "output_type": "display_data"
    },
    {
     "data": {
      "text/plain": "<Figure size 432x288 with 0 Axes>"
     },
     "metadata": {},
     "output_type": "display_data"
    },
    {
     "data": {
      "text/plain": "<Figure size 432x288 with 0 Axes>"
     },
     "metadata": {},
     "output_type": "display_data"
    },
    {
     "data": {
      "text/plain": "<Figure size 432x288 with 0 Axes>"
     },
     "metadata": {},
     "output_type": "display_data"
    },
    {
     "data": {
      "text/plain": "<Figure size 432x288 with 0 Axes>"
     },
     "metadata": {},
     "output_type": "display_data"
    },
    {
     "data": {
      "text/plain": "<Figure size 432x288 with 0 Axes>"
     },
     "metadata": {},
     "output_type": "display_data"
    },
    {
     "data": {
      "text/plain": "<Figure size 432x288 with 0 Axes>"
     },
     "metadata": {},
     "output_type": "display_data"
    },
    {
     "data": {
      "text/plain": "<Figure size 432x288 with 0 Axes>"
     },
     "metadata": {},
     "output_type": "display_data"
    },
    {
     "data": {
      "text/plain": "<Figure size 432x288 with 0 Axes>"
     },
     "metadata": {},
     "output_type": "display_data"
    },
    {
     "data": {
      "text/plain": "<Figure size 432x288 with 0 Axes>"
     },
     "metadata": {},
     "output_type": "display_data"
    },
    {
     "data": {
      "text/plain": "<Figure size 432x288 with 0 Axes>"
     },
     "metadata": {},
     "output_type": "display_data"
    },
    {
     "data": {
      "text/plain": "<Figure size 432x288 with 0 Axes>"
     },
     "metadata": {},
     "output_type": "display_data"
    },
    {
     "data": {
      "text/plain": "<Figure size 432x288 with 0 Axes>"
     },
     "metadata": {},
     "output_type": "display_data"
    },
    {
     "data": {
      "text/plain": "<Figure size 432x288 with 0 Axes>"
     },
     "metadata": {},
     "output_type": "display_data"
    },
    {
     "data": {
      "text/plain": "<Figure size 432x288 with 0 Axes>"
     },
     "metadata": {},
     "output_type": "display_data"
    },
    {
     "data": {
      "text/plain": "<Figure size 432x288 with 0 Axes>"
     },
     "metadata": {},
     "output_type": "display_data"
    },
    {
     "data": {
      "text/plain": "<Figure size 432x288 with 0 Axes>"
     },
     "metadata": {},
     "output_type": "display_data"
    },
    {
     "data": {
      "text/plain": "<Figure size 432x288 with 0 Axes>"
     },
     "metadata": {},
     "output_type": "display_data"
    },
    {
     "data": {
      "text/plain": "<Figure size 432x288 with 0 Axes>"
     },
     "metadata": {},
     "output_type": "display_data"
    },
    {
     "data": {
      "text/plain": "<Figure size 432x288 with 0 Axes>"
     },
     "metadata": {},
     "output_type": "display_data"
    },
    {
     "data": {
      "text/plain": "<Figure size 432x288 with 0 Axes>"
     },
     "metadata": {},
     "output_type": "display_data"
    },
    {
     "data": {
      "text/plain": "<Figure size 432x288 with 0 Axes>"
     },
     "metadata": {},
     "output_type": "display_data"
    },
    {
     "data": {
      "text/plain": "<Figure size 432x288 with 0 Axes>"
     },
     "metadata": {},
     "output_type": "display_data"
    },
    {
     "data": {
      "text/plain": "<Figure size 432x288 with 0 Axes>"
     },
     "metadata": {},
     "output_type": "display_data"
    },
    {
     "data": {
      "text/plain": "<Figure size 432x288 with 0 Axes>"
     },
     "metadata": {},
     "output_type": "display_data"
    },
    {
     "data": {
      "text/plain": "<Figure size 432x288 with 0 Axes>"
     },
     "metadata": {},
     "output_type": "display_data"
    },
    {
     "data": {
      "text/plain": "<Figure size 432x288 with 0 Axes>"
     },
     "metadata": {},
     "output_type": "display_data"
    },
    {
     "data": {
      "text/plain": "<Figure size 432x288 with 0 Axes>"
     },
     "metadata": {},
     "output_type": "display_data"
    },
    {
     "data": {
      "text/plain": "<Figure size 432x288 with 0 Axes>"
     },
     "metadata": {},
     "output_type": "display_data"
    },
    {
     "data": {
      "text/plain": "<Figure size 432x288 with 0 Axes>"
     },
     "metadata": {},
     "output_type": "display_data"
    },
    {
     "data": {
      "text/plain": "<Figure size 432x288 with 0 Axes>"
     },
     "metadata": {},
     "output_type": "display_data"
    },
    {
     "data": {
      "text/plain": "<Figure size 432x288 with 0 Axes>"
     },
     "metadata": {},
     "output_type": "display_data"
    },
    {
     "data": {
      "text/plain": "<Figure size 432x288 with 0 Axes>"
     },
     "metadata": {},
     "output_type": "display_data"
    },
    {
     "data": {
      "text/plain": "<Figure size 432x288 with 0 Axes>"
     },
     "metadata": {},
     "output_type": "display_data"
    },
    {
     "data": {
      "text/plain": "<Figure size 432x288 with 0 Axes>"
     },
     "metadata": {},
     "output_type": "display_data"
    },
    {
     "data": {
      "text/plain": "<Figure size 432x288 with 0 Axes>"
     },
     "metadata": {},
     "output_type": "display_data"
    },
    {
     "data": {
      "text/plain": "<Figure size 432x288 with 0 Axes>"
     },
     "metadata": {},
     "output_type": "display_data"
    },
    {
     "data": {
      "text/plain": "<Figure size 432x288 with 0 Axes>"
     },
     "metadata": {},
     "output_type": "display_data"
    },
    {
     "data": {
      "text/plain": "<Figure size 432x288 with 0 Axes>"
     },
     "metadata": {},
     "output_type": "display_data"
    },
    {
     "data": {
      "text/plain": "<Figure size 432x288 with 0 Axes>"
     },
     "metadata": {},
     "output_type": "display_data"
    },
    {
     "data": {
      "text/plain": "<Figure size 432x288 with 0 Axes>"
     },
     "metadata": {},
     "output_type": "display_data"
    },
    {
     "data": {
      "text/plain": "<Figure size 432x288 with 0 Axes>"
     },
     "metadata": {},
     "output_type": "display_data"
    },
    {
     "data": {
      "text/plain": "<Figure size 432x288 with 0 Axes>"
     },
     "metadata": {},
     "output_type": "display_data"
    },
    {
     "data": {
      "text/plain": "<Figure size 432x288 with 0 Axes>"
     },
     "metadata": {},
     "output_type": "display_data"
    },
    {
     "data": {
      "text/plain": "<Figure size 432x288 with 0 Axes>"
     },
     "metadata": {},
     "output_type": "display_data"
    },
    {
     "data": {
      "text/plain": "<Figure size 432x288 with 0 Axes>"
     },
     "metadata": {},
     "output_type": "display_data"
    },
    {
     "data": {
      "text/plain": "<Figure size 432x288 with 0 Axes>"
     },
     "metadata": {},
     "output_type": "display_data"
    },
    {
     "data": {
      "text/plain": "<Figure size 432x288 with 0 Axes>"
     },
     "metadata": {},
     "output_type": "display_data"
    },
    {
     "data": {
      "text/plain": "<Figure size 432x288 with 0 Axes>"
     },
     "metadata": {},
     "output_type": "display_data"
    },
    {
     "data": {
      "text/plain": "<Figure size 432x288 with 0 Axes>"
     },
     "metadata": {},
     "output_type": "display_data"
    },
    {
     "data": {
      "text/plain": "<Figure size 432x288 with 0 Axes>"
     },
     "metadata": {},
     "output_type": "display_data"
    },
    {
     "data": {
      "text/plain": "<Figure size 432x288 with 0 Axes>"
     },
     "metadata": {},
     "output_type": "display_data"
    },
    {
     "data": {
      "text/plain": "<Figure size 432x288 with 0 Axes>"
     },
     "metadata": {},
     "output_type": "display_data"
    },
    {
     "data": {
      "text/plain": "<Figure size 432x288 with 0 Axes>"
     },
     "metadata": {},
     "output_type": "display_data"
    },
    {
     "data": {
      "text/plain": "<Figure size 432x288 with 0 Axes>"
     },
     "metadata": {},
     "output_type": "display_data"
    },
    {
     "data": {
      "text/plain": "<Figure size 432x288 with 0 Axes>"
     },
     "metadata": {},
     "output_type": "display_data"
    },
    {
     "data": {
      "text/plain": "<Figure size 432x288 with 0 Axes>"
     },
     "metadata": {},
     "output_type": "display_data"
    },
    {
     "data": {
      "text/plain": "<Figure size 432x288 with 0 Axes>"
     },
     "metadata": {},
     "output_type": "display_data"
    },
    {
     "data": {
      "text/plain": "<Figure size 432x288 with 0 Axes>"
     },
     "metadata": {},
     "output_type": "display_data"
    },
    {
     "data": {
      "text/plain": "<Figure size 432x288 with 0 Axes>"
     },
     "metadata": {},
     "output_type": "display_data"
    },
    {
     "data": {
      "text/plain": "<Figure size 432x288 with 0 Axes>"
     },
     "metadata": {},
     "output_type": "display_data"
    },
    {
     "data": {
      "text/plain": "<Figure size 432x288 with 0 Axes>"
     },
     "metadata": {},
     "output_type": "display_data"
    },
    {
     "data": {
      "text/plain": "<Figure size 432x288 with 0 Axes>"
     },
     "metadata": {},
     "output_type": "display_data"
    },
    {
     "data": {
      "text/plain": "<Figure size 432x288 with 0 Axes>"
     },
     "metadata": {},
     "output_type": "display_data"
    },
    {
     "data": {
      "text/plain": "<Figure size 432x288 with 0 Axes>"
     },
     "metadata": {},
     "output_type": "display_data"
    },
    {
     "data": {
      "text/plain": "<Figure size 432x288 with 0 Axes>"
     },
     "metadata": {},
     "output_type": "display_data"
    },
    {
     "data": {
      "text/plain": "<Figure size 432x288 with 0 Axes>"
     },
     "metadata": {},
     "output_type": "display_data"
    },
    {
     "data": {
      "text/plain": "<Figure size 432x288 with 0 Axes>"
     },
     "metadata": {},
     "output_type": "display_data"
    },
    {
     "data": {
      "text/plain": "<Figure size 432x288 with 0 Axes>"
     },
     "metadata": {},
     "output_type": "display_data"
    },
    {
     "data": {
      "text/plain": "<Figure size 432x288 with 0 Axes>"
     },
     "metadata": {},
     "output_type": "display_data"
    },
    {
     "data": {
      "text/plain": "<Figure size 432x288 with 0 Axes>"
     },
     "metadata": {},
     "output_type": "display_data"
    },
    {
     "data": {
      "text/plain": "<Figure size 432x288 with 0 Axes>"
     },
     "metadata": {},
     "output_type": "display_data"
    },
    {
     "data": {
      "text/plain": "<Figure size 432x288 with 0 Axes>"
     },
     "metadata": {},
     "output_type": "display_data"
    },
    {
     "data": {
      "text/plain": "<Figure size 432x288 with 0 Axes>"
     },
     "metadata": {},
     "output_type": "display_data"
    },
    {
     "data": {
      "text/plain": "<Figure size 432x288 with 0 Axes>"
     },
     "metadata": {},
     "output_type": "display_data"
    },
    {
     "data": {
      "text/plain": "<Figure size 432x288 with 0 Axes>"
     },
     "metadata": {},
     "output_type": "display_data"
    },
    {
     "data": {
      "text/plain": "<Figure size 432x288 with 0 Axes>"
     },
     "metadata": {},
     "output_type": "display_data"
    },
    {
     "data": {
      "text/plain": "<Figure size 432x288 with 0 Axes>"
     },
     "metadata": {},
     "output_type": "display_data"
    },
    {
     "data": {
      "text/plain": "<Figure size 432x288 with 0 Axes>"
     },
     "metadata": {},
     "output_type": "display_data"
    },
    {
     "data": {
      "text/plain": "<Figure size 432x288 with 0 Axes>"
     },
     "metadata": {},
     "output_type": "display_data"
    },
    {
     "data": {
      "text/plain": "<Figure size 432x288 with 0 Axes>"
     },
     "metadata": {},
     "output_type": "display_data"
    },
    {
     "data": {
      "text/plain": "<Figure size 432x288 with 0 Axes>"
     },
     "metadata": {},
     "output_type": "display_data"
    },
    {
     "data": {
      "text/plain": "<Figure size 432x288 with 0 Axes>"
     },
     "metadata": {},
     "output_type": "display_data"
    },
    {
     "data": {
      "text/plain": "<Figure size 432x288 with 0 Axes>"
     },
     "metadata": {},
     "output_type": "display_data"
    },
    {
     "data": {
      "text/plain": "<Figure size 432x288 with 0 Axes>"
     },
     "metadata": {},
     "output_type": "display_data"
    },
    {
     "data": {
      "text/plain": "<Figure size 432x288 with 0 Axes>"
     },
     "metadata": {},
     "output_type": "display_data"
    },
    {
     "data": {
      "text/plain": "<Figure size 432x288 with 0 Axes>"
     },
     "metadata": {},
     "output_type": "display_data"
    },
    {
     "data": {
      "text/plain": "<Figure size 432x288 with 0 Axes>"
     },
     "metadata": {},
     "output_type": "display_data"
    },
    {
     "data": {
      "text/plain": "<Figure size 432x288 with 0 Axes>"
     },
     "metadata": {},
     "output_type": "display_data"
    },
    {
     "data": {
      "text/plain": "<Figure size 432x288 with 0 Axes>"
     },
     "metadata": {},
     "output_type": "display_data"
    },
    {
     "data": {
      "text/plain": "<Figure size 432x288 with 0 Axes>"
     },
     "metadata": {},
     "output_type": "display_data"
    },
    {
     "data": {
      "text/plain": "<Figure size 432x288 with 0 Axes>"
     },
     "metadata": {},
     "output_type": "display_data"
    },
    {
     "data": {
      "text/plain": "<Figure size 432x288 with 0 Axes>"
     },
     "metadata": {},
     "output_type": "display_data"
    },
    {
     "data": {
      "text/plain": "<Figure size 432x288 with 0 Axes>"
     },
     "metadata": {},
     "output_type": "display_data"
    },
    {
     "data": {
      "text/plain": "<Figure size 432x288 with 0 Axes>"
     },
     "metadata": {},
     "output_type": "display_data"
    },
    {
     "data": {
      "text/plain": "<Figure size 432x288 with 0 Axes>"
     },
     "metadata": {},
     "output_type": "display_data"
    },
    {
     "data": {
      "text/plain": "<Figure size 432x288 with 0 Axes>"
     },
     "metadata": {},
     "output_type": "display_data"
    },
    {
     "data": {
      "text/plain": "<Figure size 432x288 with 0 Axes>"
     },
     "metadata": {},
     "output_type": "display_data"
    },
    {
     "data": {
      "text/plain": "<Figure size 432x288 with 0 Axes>"
     },
     "metadata": {},
     "output_type": "display_data"
    },
    {
     "data": {
      "text/plain": "<Figure size 432x288 with 0 Axes>"
     },
     "metadata": {},
     "output_type": "display_data"
    },
    {
     "data": {
      "text/plain": "<Figure size 432x288 with 0 Axes>"
     },
     "metadata": {},
     "output_type": "display_data"
    },
    {
     "data": {
      "text/plain": "<Figure size 432x288 with 0 Axes>"
     },
     "metadata": {},
     "output_type": "display_data"
    },
    {
     "data": {
      "text/plain": "<Figure size 432x288 with 0 Axes>"
     },
     "metadata": {},
     "output_type": "display_data"
    },
    {
     "data": {
      "text/plain": "<Figure size 432x288 with 0 Axes>"
     },
     "metadata": {},
     "output_type": "display_data"
    },
    {
     "data": {
      "text/plain": "<Figure size 432x288 with 0 Axes>"
     },
     "metadata": {},
     "output_type": "display_data"
    },
    {
     "data": {
      "text/plain": "<Figure size 432x288 with 0 Axes>"
     },
     "metadata": {},
     "output_type": "display_data"
    },
    {
     "data": {
      "text/plain": "<Figure size 432x288 with 0 Axes>"
     },
     "metadata": {},
     "output_type": "display_data"
    },
    {
     "data": {
      "text/plain": "<Figure size 432x288 with 0 Axes>"
     },
     "metadata": {},
     "output_type": "display_data"
    },
    {
     "data": {
      "text/plain": "<Figure size 432x288 with 0 Axes>"
     },
     "metadata": {},
     "output_type": "display_data"
    },
    {
     "data": {
      "text/plain": "<Figure size 432x288 with 0 Axes>"
     },
     "metadata": {},
     "output_type": "display_data"
    },
    {
     "data": {
      "text/plain": "<Figure size 432x288 with 0 Axes>"
     },
     "metadata": {},
     "output_type": "display_data"
    },
    {
     "data": {
      "text/plain": "<Figure size 432x288 with 0 Axes>"
     },
     "metadata": {},
     "output_type": "display_data"
    },
    {
     "data": {
      "text/plain": "<Figure size 432x288 with 0 Axes>"
     },
     "metadata": {},
     "output_type": "display_data"
    },
    {
     "data": {
      "text/plain": "<Figure size 432x288 with 0 Axes>"
     },
     "metadata": {},
     "output_type": "display_data"
    },
    {
     "data": {
      "text/plain": "<Figure size 432x288 with 0 Axes>"
     },
     "metadata": {},
     "output_type": "display_data"
    },
    {
     "data": {
      "text/plain": "<Figure size 432x288 with 0 Axes>"
     },
     "metadata": {},
     "output_type": "display_data"
    },
    {
     "data": {
      "text/plain": "<Figure size 432x288 with 0 Axes>"
     },
     "metadata": {},
     "output_type": "display_data"
    },
    {
     "data": {
      "text/plain": "<Figure size 432x288 with 0 Axes>"
     },
     "metadata": {},
     "output_type": "display_data"
    },
    {
     "data": {
      "text/plain": "<Figure size 432x288 with 0 Axes>"
     },
     "metadata": {},
     "output_type": "display_data"
    },
    {
     "data": {
      "text/plain": "<Figure size 432x288 with 0 Axes>"
     },
     "metadata": {},
     "output_type": "display_data"
    },
    {
     "data": {
      "text/plain": "<Figure size 432x288 with 0 Axes>"
     },
     "metadata": {},
     "output_type": "display_data"
    },
    {
     "data": {
      "text/plain": "<Figure size 432x288 with 0 Axes>"
     },
     "metadata": {},
     "output_type": "display_data"
    },
    {
     "data": {
      "text/plain": "<Figure size 432x288 with 0 Axes>"
     },
     "metadata": {},
     "output_type": "display_data"
    },
    {
     "data": {
      "text/plain": "<Figure size 432x288 with 0 Axes>"
     },
     "metadata": {},
     "output_type": "display_data"
    },
    {
     "data": {
      "text/plain": "<Figure size 432x288 with 0 Axes>"
     },
     "metadata": {},
     "output_type": "display_data"
    },
    {
     "data": {
      "text/plain": "<Figure size 432x288 with 0 Axes>"
     },
     "metadata": {},
     "output_type": "display_data"
    },
    {
     "data": {
      "text/plain": "<Figure size 432x288 with 0 Axes>"
     },
     "metadata": {},
     "output_type": "display_data"
    },
    {
     "data": {
      "text/plain": "<Figure size 432x288 with 0 Axes>"
     },
     "metadata": {},
     "output_type": "display_data"
    },
    {
     "data": {
      "text/plain": "<Figure size 432x288 with 0 Axes>"
     },
     "metadata": {},
     "output_type": "display_data"
    },
    {
     "data": {
      "text/plain": "<Figure size 432x288 with 0 Axes>"
     },
     "metadata": {},
     "output_type": "display_data"
    },
    {
     "data": {
      "text/plain": "<Figure size 432x288 with 0 Axes>"
     },
     "metadata": {},
     "output_type": "display_data"
    },
    {
     "data": {
      "text/plain": "<Figure size 432x288 with 0 Axes>"
     },
     "metadata": {},
     "output_type": "display_data"
    },
    {
     "data": {
      "text/plain": "<Figure size 432x288 with 0 Axes>"
     },
     "metadata": {},
     "output_type": "display_data"
    },
    {
     "data": {
      "text/plain": "<Figure size 432x288 with 0 Axes>"
     },
     "metadata": {},
     "output_type": "display_data"
    },
    {
     "data": {
      "text/plain": "<Figure size 432x288 with 0 Axes>"
     },
     "metadata": {},
     "output_type": "display_data"
    },
    {
     "data": {
      "text/plain": "<Figure size 432x288 with 0 Axes>"
     },
     "metadata": {},
     "output_type": "display_data"
    },
    {
     "data": {
      "text/plain": "<Figure size 432x288 with 0 Axes>"
     },
     "metadata": {},
     "output_type": "display_data"
    },
    {
     "data": {
      "text/plain": "<Figure size 432x288 with 0 Axes>"
     },
     "metadata": {},
     "output_type": "display_data"
    },
    {
     "data": {
      "text/plain": "<Figure size 432x288 with 0 Axes>"
     },
     "metadata": {},
     "output_type": "display_data"
    },
    {
     "data": {
      "text/plain": "<Figure size 432x288 with 0 Axes>"
     },
     "metadata": {},
     "output_type": "display_data"
    },
    {
     "data": {
      "text/plain": "<Figure size 432x288 with 0 Axes>"
     },
     "metadata": {},
     "output_type": "display_data"
    },
    {
     "data": {
      "text/plain": "<Figure size 432x288 with 0 Axes>"
     },
     "metadata": {},
     "output_type": "display_data"
    },
    {
     "data": {
      "text/plain": "<Figure size 432x288 with 0 Axes>"
     },
     "metadata": {},
     "output_type": "display_data"
    },
    {
     "data": {
      "text/plain": "<Figure size 432x288 with 0 Axes>"
     },
     "metadata": {},
     "output_type": "display_data"
    },
    {
     "data": {
      "text/plain": "<Figure size 432x288 with 0 Axes>"
     },
     "metadata": {},
     "output_type": "display_data"
    },
    {
     "data": {
      "text/plain": "<Figure size 432x288 with 0 Axes>"
     },
     "metadata": {},
     "output_type": "display_data"
    },
    {
     "data": {
      "text/plain": "<Figure size 432x288 with 0 Axes>"
     },
     "metadata": {},
     "output_type": "display_data"
    },
    {
     "data": {
      "text/plain": "<Figure size 432x288 with 0 Axes>"
     },
     "metadata": {},
     "output_type": "display_data"
    },
    {
     "data": {
      "text/plain": "<Figure size 432x288 with 0 Axes>"
     },
     "metadata": {},
     "output_type": "display_data"
    },
    {
     "data": {
      "text/plain": "<Figure size 432x288 with 0 Axes>"
     },
     "metadata": {},
     "output_type": "display_data"
    },
    {
     "data": {
      "text/plain": "<Figure size 432x288 with 0 Axes>"
     },
     "metadata": {},
     "output_type": "display_data"
    },
    {
     "data": {
      "text/plain": "<Figure size 432x288 with 0 Axes>"
     },
     "metadata": {},
     "output_type": "display_data"
    },
    {
     "data": {
      "text/plain": "<Figure size 432x288 with 0 Axes>"
     },
     "metadata": {},
     "output_type": "display_data"
    },
    {
     "data": {
      "text/plain": "<Figure size 432x288 with 0 Axes>"
     },
     "metadata": {},
     "output_type": "display_data"
    },
    {
     "data": {
      "text/plain": "<Figure size 432x288 with 0 Axes>"
     },
     "metadata": {},
     "output_type": "display_data"
    },
    {
     "data": {
      "text/plain": "<Figure size 432x288 with 0 Axes>"
     },
     "metadata": {},
     "output_type": "display_data"
    },
    {
     "data": {
      "text/plain": "<Figure size 432x288 with 0 Axes>"
     },
     "metadata": {},
     "output_type": "display_data"
    },
    {
     "data": {
      "text/plain": "<Figure size 432x288 with 0 Axes>"
     },
     "metadata": {},
     "output_type": "display_data"
    },
    {
     "data": {
      "text/plain": "<Figure size 432x288 with 0 Axes>"
     },
     "metadata": {},
     "output_type": "display_data"
    },
    {
     "data": {
      "text/plain": "<Figure size 432x288 with 0 Axes>"
     },
     "metadata": {},
     "output_type": "display_data"
    },
    {
     "data": {
      "text/plain": "<Figure size 432x288 with 0 Axes>"
     },
     "metadata": {},
     "output_type": "display_data"
    },
    {
     "data": {
      "text/plain": "<Figure size 432x288 with 0 Axes>"
     },
     "metadata": {},
     "output_type": "display_data"
    },
    {
     "data": {
      "text/plain": "<Figure size 432x288 with 0 Axes>"
     },
     "metadata": {},
     "output_type": "display_data"
    },
    {
     "data": {
      "text/plain": "<Figure size 432x288 with 0 Axes>"
     },
     "metadata": {},
     "output_type": "display_data"
    },
    {
     "data": {
      "text/plain": "<Figure size 432x288 with 0 Axes>"
     },
     "metadata": {},
     "output_type": "display_data"
    },
    {
     "data": {
      "text/plain": "<Figure size 432x288 with 0 Axes>"
     },
     "metadata": {},
     "output_type": "display_data"
    },
    {
     "data": {
      "text/plain": "<Figure size 432x288 with 0 Axes>"
     },
     "metadata": {},
     "output_type": "display_data"
    },
    {
     "data": {
      "text/plain": "<Figure size 432x288 with 0 Axes>"
     },
     "metadata": {},
     "output_type": "display_data"
    },
    {
     "data": {
      "text/plain": "<Figure size 432x288 with 0 Axes>"
     },
     "metadata": {},
     "output_type": "display_data"
    },
    {
     "data": {
      "text/plain": "<Figure size 432x288 with 0 Axes>"
     },
     "metadata": {},
     "output_type": "display_data"
    },
    {
     "data": {
      "text/plain": "<Figure size 432x288 with 0 Axes>"
     },
     "metadata": {},
     "output_type": "display_data"
    },
    {
     "data": {
      "text/plain": "<Figure size 432x288 with 0 Axes>"
     },
     "metadata": {},
     "output_type": "display_data"
    },
    {
     "data": {
      "text/plain": "<Figure size 432x288 with 0 Axes>"
     },
     "metadata": {},
     "output_type": "display_data"
    },
    {
     "data": {
      "text/plain": "<Figure size 432x288 with 0 Axes>"
     },
     "metadata": {},
     "output_type": "display_data"
    },
    {
     "data": {
      "text/plain": "<Figure size 432x288 with 0 Axes>"
     },
     "metadata": {},
     "output_type": "display_data"
    },
    {
     "data": {
      "text/plain": "<Figure size 432x288 with 0 Axes>"
     },
     "metadata": {},
     "output_type": "display_data"
    },
    {
     "data": {
      "text/plain": "<Figure size 432x288 with 0 Axes>"
     },
     "metadata": {},
     "output_type": "display_data"
    },
    {
     "data": {
      "text/plain": "<Figure size 432x288 with 0 Axes>"
     },
     "metadata": {},
     "output_type": "display_data"
    },
    {
     "data": {
      "text/plain": "<Figure size 432x288 with 0 Axes>"
     },
     "metadata": {},
     "output_type": "display_data"
    },
    {
     "data": {
      "text/plain": "<Figure size 432x288 with 0 Axes>"
     },
     "metadata": {},
     "output_type": "display_data"
    }
   ],
   "source": [
    "\n",
    "df = pd.read_csv(\"how_to.csv\")\n",
    "\n",
    "print(df.keys())\n",
    "print(\"Total: \", len(df))\n",
    "\n",
    "no_hist_keys = [\n",
    "    \"ABSTAIN_THRESHOLDS\",\n",
    "    \"AL_SAMPLES_WEIGTHS\",\n",
    "    \"DATASET_RANDOM_GENERATION_SEED\",\n",
    "    \"JOB_ID\",\n",
    "    \"LF_CLASSIFIERS\",\n",
    "    \"LF_RANDOM_SEED\",\n",
    "    \"random_state\",\n",
    "    \"AMOUNT_OF_LF_FEATURESSS\",\n",
    "]\n",
    "\n",
    "\n",
    "hist_keys_that_are_lists =  [\n",
    "    \"ABSTAIN_THRESHOLDS\",\n",
    "    \"AL_SAMPLES_WEIGTHS\",\n",
    "    \"LF_CLASSIFIERS\",\n",
    "    \"AMOUNT_OF_LF_FEATURESSS\",\n",
    "]\n",
    "\n",
    "# 1. check the value ranges -> does it make sense to go one_hot_encoding? for LF_CLASSIFIERS definitely\n",
    "# 2. for the rest not so much -,-\n",
    "\n",
    "\n",
    "title=\"all\"\n",
    "for key in df:\n",
    "    if key.startswith(\"acc_\") or key.startswith(\"f1_\") or key in no_hist_keys:\n",
    "        continue\n",
    "    print(key)\n",
    "    sns.histplot(df, y=key).set(title=title)\n",
    "    plt.savefig('plots/' + title+ '_' + key + '.jpg', dpi=300, bbox_inches=\"tight\")\n",
    "    plt.savefig('plots/' + title+ '_' + key + '.pdf',dpi=300, format=\"pdf\", bbox_inches=\"tight\")\n",
    "    plt.clf()\n",
    "\n",
    "\n",
    "def analyse_value_distributions(df, df_a, df_not_a, title):\n",
    "    for key in df_a:\n",
    "        if key.startswith(\"acc_\") or key.startswith(\"f1_\") or key in no_hist_keys:\n",
    "            continue\n",
    "        print(key)\n",
    "\n",
    "        f, (ax1, ax2) = plt.subplots(1, 2, sharey=True, sharex=True)\n",
    "        ax1.set_title(title)\n",
    "        sns.histplot(df_a, y=key, ax=ax1)\n",
    "        sns.histplot(df_not_a, y=key, ax=ax2)\n",
    "        plt.savefig(\"plots/\" + title + \"_\" + key + \".jpg\", dpi=300, bbox_inches=\"tight\")\n",
    "        plt.savefig(\n",
    "            \"plots/\" + title + \"_\" + key + \".pdf\",\n",
    "            dpi=300,\n",
    "            format=\"pdf\",\n",
    "            bbox_inches=\"tight\",\n",
    "        )\n",
    "        plt.clf()\n",
    "        #acc per lf als stärke der lf\n",
    "\n",
    "for metric in [\"acc\", \"f1\"]:\n",
    "    print(metric)\n",
    "        \n",
    "    analyse_value_distributions(\n",
    "        df,\n",
    "        df.loc[(df[metric + \"_initial\"] > df[metric + \"_al_and_al\"])\n",
    "            & (df[metric + \"_initial\"] > df[metric + \"_al_and_ws_and_al\"])],\n",
    "        df.loc[(df[metric + \"_initial\"] <= df[metric + \"_al_and_al\"])\n",
    "            & (df[metric + \"_initial\"] <= df[metric + \"_al_and_ws_and_al\"])],\n",
    "        metric + \" Initial was better than everything else\",\n",
    "    )\n",
    "    analyse_value_distributions(\n",
    "        df,\n",
    "        df.loc[(df[metric + \"_ws\"] > df[metric + \"_initial\"])],\n",
    "        df.loc[(df[metric + \"_ws\"] >= df[metric + \"_initial\"])],\n",
    "         metric + \"Only WS > Initial\",\n",
    "    )\n",
    "    analyse_value_distributions(\n",
    "        df,\n",
    "        df.loc[(df[metric + \"_al_and_ws_and_al\"] > df[metric + \"_ws\"])],\n",
    "        df.loc[(df[metric + \"_al_and_ws_and_al\"] <= df[metric + \"_ws\"])],\n",
    "         metric + \" AL and WS and AL > Only WS\",\n",
    "    )\n",
    "    analyse_value_distributions(\n",
    "        df,\n",
    "        df.loc[ (df[metric + \"_al_and_al\"] > df[metric + \"_initial\"])],\n",
    "        df.loc[ (df[metric + \"_al_and_al\"] <= df[metric + \"_initial\"])],\n",
    "         metric + \" AL and AL > AL\",\n",
    "    )\n",
    "    analyse_value_distributions(\n",
    "        df,\n",
    "        df.loc[(df[metric + \"_al_and_ws_and_al\"] < df[metric + \"_ws\"])],\n",
    "        df.loc[(df[metric + \"_al_and_ws_and_al\"] >= df[metric + \"_ws\"])],\n",
    "        metric + \" AL and WS and AL < Only WS\",\n",
    "    )"
   ]
  }
 ],
 "metadata": {
  "kernelspec": {
   "display_name": "Python 3.8.10 64-bit ('code': pipenv)",
   "name": "python3810jvsc74a57bd0178c561f06d1c9b562d26393e106d1bb838dc5f57458805df561d13c135e6443"
  },
  "language_info": {
   "codemirror_mode": {
    "name": "ipython",
    "version": 3
   },
   "file_extension": ".py",
   "mimetype": "text/x-python",
   "name": "python",
   "nbconvert_exporter": "python",
   "pygments_lexer": "ipython3",
   "version": "3.8.10"
  },
  "orig_nbformat": 2
 },
 "nbformat": 4,
 "nbformat_minor": 2
}